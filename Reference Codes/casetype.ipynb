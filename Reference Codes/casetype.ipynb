{
 "cells": [
  {
   "cell_type": "code",
   "execution_count": 1,
   "id": "e1aa396c",
   "metadata": {},
   "outputs": [
    {
     "ename": "ModuleNotFoundError",
     "evalue": "No module named 'snowflake.sqlalchemy'",
     "output_type": "error",
     "traceback": [
      "\u001b[1;31m---------------------------------------------------------------------------\u001b[0m",
      "\u001b[1;31mModuleNotFoundError\u001b[0m                       Traceback (most recent call last)",
      "Cell \u001b[1;32mIn[1], line 11\u001b[0m\n\u001b[0;32m      8\u001b[0m \u001b[38;5;28;01mimport\u001b[39;00m \u001b[38;5;21;01mnumpy\u001b[39;00m \u001b[38;5;28;01mas\u001b[39;00m \u001b[38;5;21;01mnp\u001b[39;00m\n\u001b[0;32m     10\u001b[0m \u001b[38;5;28;01mfrom\u001b[39;00m \u001b[38;5;21;01msqlalchemy\u001b[39;00m \u001b[38;5;28;01mimport\u001b[39;00m create_engine\n\u001b[1;32m---> 11\u001b[0m \u001b[38;5;28;01mfrom\u001b[39;00m \u001b[38;5;21;01msnowflake\u001b[39;00m\u001b[38;5;21;01m.\u001b[39;00m\u001b[38;5;21;01msqlalchemy\u001b[39;00m \u001b[38;5;28;01mimport\u001b[39;00m URL\n\u001b[0;32m     12\u001b[0m \u001b[38;5;28;01mfrom\u001b[39;00m \u001b[38;5;21;01msqlalchemy\u001b[39;00m\u001b[38;5;21;01m.\u001b[39;00m\u001b[38;5;21;01mdialects\u001b[39;00m \u001b[38;5;28;01mimport\u001b[39;00m registry\n\u001b[0;32m     14\u001b[0m \u001b[38;5;28;01mfrom\u001b[39;00m \u001b[38;5;21;01mazureml\u001b[39;00m\u001b[38;5;21;01m.\u001b[39;00m\u001b[38;5;21;01mcore\u001b[39;00m \u001b[38;5;28;01mimport\u001b[39;00m Workspace, Dataset, Run\n",
      "\u001b[1;31mModuleNotFoundError\u001b[0m: No module named 'snowflake.sqlalchemy'"
     ]
    }
   ],
   "source": [
    "import matplotlib.pyplot as plt\n",
    "\n",
    "import snowflake.connector\n",
    "import joblib\n",
    "import scipy\n",
    "\n",
    "import pandas as pd \n",
    "import numpy as np\n",
    "\n",
    "from sqlalchemy import create_engine\n",
    "from snowflake.sqlalchemy import URL\n",
    "from sqlalchemy.dialects import registry\n",
    "\n",
    "from azureml.core import Workspace, Dataset, Run\n",
    "from azureml.core.model import Model\n",
    "\n",
    "\n",
    "from azure.identity import ManagedIdentityCredential, InteractiveBrowserCredential, DefaultAzureCredential\n",
    "from azure.keyvault.secrets import SecretClient\n",
    "\n",
    "from sentence_transformers import SentenceTransformer, util\n",
    "\n",
    "from sklearn.metrics import pairwise_distances\n",
    "from sklearn.manifold import TSNE, MDS\n",
    "from sklearn.metrics.pairwise import cosine_distances\n",
    "from scipy.spatial.distance import cosine\n",
    "import torch\n",
    "from sklearn.metrics import jaccard_score, multilabel_confusion_matrix\n",
    "from sklearn.model_selection import train_test_split\n",
    "from sklearn.preprocessing import OneHotEncoder, MultiLabelBinarizer\n",
    "from sklearn.neighbors import KNeighborsClassifier\n",
    "from sklearn.multioutput import MultiOutputClassifier, ClassifierChain\n",
    "from sklearn.ensemble import RandomForestClassifier\n",
    "from sklearn.tree import DecisionTreeClassifier\n",
    "from sklearn.linear_model import LogisticRegression\n",
    "\n",
    "from scipy.spatial import distance\n",
    "\n",
    "\n",
    "from datasets import load_dataset\n",
    "from sentence_transformers.losses import CosineSimilarityLoss\n",
    "\n",
    "from setfit import SetFitModel, SetFitTrainer, sample_dataset\n",
    "\n",
    "from datasets import Dataset\n",
    "import evaluate\n",
    "from sklearn.preprocessing import OrdinalEncoder\n",
    "\n",
    "from sklearn.metrics import precision_score\n",
    "from sklearn.metrics import recall_score\n",
    "\n",
    "from sklearn.linear_model import LogisticRegression"
   ]
  },
  {
   "cell_type": "code",
   "execution_count": 4,
   "id": "a0bdaba3",
   "metadata": {},
   "outputs": [],
   "source": [
    "from umap import UMAP"
   ]
  },
  {
   "cell_type": "code",
   "execution_count": 5,
   "id": "c4e767ab",
   "metadata": {},
   "outputs": [],
   "source": [
    "pd.options.display.max_columns = None\n",
    "pd.set_option('display.max_row', 2500)"
   ]
  },
  {
   "cell_type": "code",
   "execution_count": 4,
   "id": "8d2fa38d",
   "metadata": {},
   "outputs": [],
   "source": [
    "subscription_id = '75310040-ed56-4e53-83e0-80f23ef48cd6'\n",
    "resource_group = 'dlsap-PaaS-PRD-rgp-001'\n",
    "workspace_name = 'Finance_DS'\n",
    "\n",
    "workspace = Workspace(subscription_id, resource_group, workspace_name)"
   ]
  },
  {
   "cell_type": "code",
   "execution_count": 18,
   "id": "20c47132",
   "metadata": {},
   "outputs": [
    {
     "name": "stderr",
     "output_type": "stream",
     "text": [
      "EnvironmentCredential.get_token failed: EnvironmentCredential authentication unavailable. Environment variables are not fully configured.\n"
     ]
    },
    {
     "name": "stdout",
     "output_type": "stream",
     "text": [
      "huggingface/tokenizers: The current process just got forked, after parallelism has already been used. Disabling parallelism to avoid deadlocks...\n",
      "To disable this warning, you can either:\n",
      "\t- Avoid using `tokenizers` before the fork if possible\n",
      "\t- Explicitly set the environment variable TOKENIZERS_PARALLELISM=(true | false)\n",
      "huggingface/tokenizers: The current process just got forked, after parallelism has already been used. Disabling parallelism to avoid deadlocks...\n",
      "To disable this warning, you can either:\n",
      "\t- Avoid using `tokenizers` before the fork if possible\n",
      "\t- Explicitly set the environment variable TOKENIZERS_PARALLELISM=(true | false)\n",
      "huggingface/tokenizers: The current process just got forked, after parallelism has already been used. Disabling parallelism to avoid deadlocks...\n",
      "To disable this warning, you can either:\n",
      "\t- Avoid using `tokenizers` before the fork if possible\n",
      "\t- Explicitly set the environment variable TOKENIZERS_PARALLELISM=(true | false)\n"
     ]
    }
   ],
   "source": [
    "credential = DefaultAzureCredential()\n",
    "secret_client = SecretClient(vault_url=\"https://financeds.vault.azure.net/\", credential=credential)\n",
    "        \n",
    "account = secret_client.get_secret(\"snowflake-account\").value\n",
    "user = secret_client.get_secret(\"snowflake-user\").value\n",
    "password = secret_client.get_secret(\"snowflake-password\").value\n",
    "database = secret_client.get_secret(\"snowflake-database\").value\n",
    "role = secret_client.get_secret(\"snowflake-role\").value\n",
    "warehouse = secret_client.get_secret(\"snowflake-warehouse\").value\n",
    "\n",
    "engine_1 = create_engine(URL(\n",
    "            account = account,\n",
    "            user = user,\n",
    "            password = password,\n",
    "            database = database,\n",
    "            role = role,\n",
    "            warehouse=warehouse,\n",
    "            schema='sinergi'\n",
    "        ))\n",
    "\n",
    "query_1 = f\"\"\" select * from RW_ACTUALS_ALL_TR\n",
    "        \"\"\"\n",
    "incidents = pd.read_sql(query_1, con=engine_1)\n",
    "\n"
   ]
  },
  {
   "cell_type": "code",
   "execution_count": 20,
   "id": "6b4f809c",
   "metadata": {
    "scrolled": true
   },
   "outputs": [
    {
     "data": {
      "text/html": [
       "<div>\n",
       "<style scoped>\n",
       "    .dataframe tbody tr th:only-of-type {\n",
       "        vertical-align: middle;\n",
       "    }\n",
       "\n",
       "    .dataframe tbody tr th {\n",
       "        vertical-align: top;\n",
       "    }\n",
       "\n",
       "    .dataframe thead th {\n",
       "        text-align: right;\n",
       "    }\n",
       "</style>\n",
       "<table border=\"1\" class=\"dataframe\">\n",
       "  <thead>\n",
       "    <tr style=\"text-align: right;\">\n",
       "      <th></th>\n",
       "      <th>caseno</th>\n",
       "      <th>company</th>\n",
       "      <th>functional_group</th>\n",
       "      <th>function</th>\n",
       "      <th>functional_area</th>\n",
       "      <th>functional_location</th>\n",
       "      <th>functional_sub_location</th>\n",
       "      <th>location_sid</th>\n",
       "      <th>location_short</th>\n",
       "      <th>country_short</th>\n",
       "      <th>sl_country</th>\n",
       "      <th>sl_location_lvl_1</th>\n",
       "      <th>sl_location_lvl_2</th>\n",
       "      <th>sl_location_lvl_3</th>\n",
       "      <th>sl_location_lvl_4</th>\n",
       "      <th>title</th>\n",
       "      <th>employment_category</th>\n",
       "      <th>case_type</th>\n",
       "      <th>case_severity</th>\n",
       "      <th>actual_workdays_lta</th>\n",
       "      <th>case_description</th>\n",
       "      <th>status</th>\n",
       "      <th>hazard_physical_security_event</th>\n",
       "      <th>work_process</th>\n",
       "      <th>imm_action_taken_recom</th>\n",
       "      <th>full_investigation_done</th>\n",
       "      <th>case_occurence_date</th>\n",
       "      <th>created_date</th>\n",
       "      <th>modified_date</th>\n",
       "      <th>approved_within_deadline</th>\n",
       "      <th>personal_injuries</th>\n",
       "      <th>case_closed_date</th>\n",
       "      <th>cases_no_of_registrations</th>\n",
       "      <th>valid_from</th>\n",
       "      <th>valid_to</th>\n",
       "      <th>case_description_en</th>\n",
       "      <th>language</th>\n",
       "    </tr>\n",
       "  </thead>\n",
       "  <tbody>\n",
       "    <tr>\n",
       "      <th>4663</th>\n",
       "      <td>24407</td>\n",
       "      <td>Uniper Group (70006651)</td>\n",
       "      <td>COO (70017898)</td>\n",
       "      <td>Asset Operations (70017927)</td>\n",
       "      <td>Hydro DE (70018324)</td>\n",
       "      <td>Kraftwerksgruppe Main (70018329)</td>\n",
       "      <td></td>\n",
       "      <td>28056</td>\n",
       "      <td>Main</td>\n",
       "      <td>DE</td>\n",
       "      <td>Germany</td>\n",
       "      <td>Hydro DE</td>\n",
       "      <td>Rivergroup Main</td>\n",
       "      <td>None</td>\n",
       "      <td>None</td>\n",
       "      <td>Alte Notfallnummer</td>\n",
       "      <td>Uniper employee</td>\n",
       "      <td>Safety</td>\n",
       "      <td>Observations</td>\n",
       "      <td>NaN</td>\n",
       "      <td>An der Schranke beim KW Garstadt war noch die ...</td>\n",
       "      <td>Closed</td>\n",
       "      <td>Lack of emergency routes</td>\n",
       "      <td>-- Not selected --</td>\n",
       "      <td>None</td>\n",
       "      <td>Not investigated</td>\n",
       "      <td>2022-02-07</td>\n",
       "      <td>2022-03-23</td>\n",
       "      <td>2022-03-24</td>\n",
       "      <td>No</td>\n",
       "      <td>NaN</td>\n",
       "      <td>2022-03-24</td>\n",
       "      <td>1.0</td>\n",
       "      <td>2022-09-14 09:28:01</td>\n",
       "      <td>2100-12-31</td>\n",
       "      <td>The old emergency number was still attached to...</td>\n",
       "      <td>de</td>\n",
       "    </tr>\n",
       "    <tr>\n",
       "      <th>4899</th>\n",
       "      <td>24407</td>\n",
       "      <td>Uniper Group (70006651)</td>\n",
       "      <td>COO (70017898)</td>\n",
       "      <td>Asset Operations (70017927)</td>\n",
       "      <td>Hydro DE (70018324)</td>\n",
       "      <td>Kraftwerksgruppe Main (70018329)</td>\n",
       "      <td></td>\n",
       "      <td>28056</td>\n",
       "      <td>Main</td>\n",
       "      <td>DE</td>\n",
       "      <td>Germany</td>\n",
       "      <td>Hydro DE</td>\n",
       "      <td>Rivergroup Main</td>\n",
       "      <td>None</td>\n",
       "      <td>None</td>\n",
       "      <td>Alte Notfallnummer</td>\n",
       "      <td>Uniper employee</td>\n",
       "      <td>Environment</td>\n",
       "      <td>Observations</td>\n",
       "      <td>NaN</td>\n",
       "      <td>An der Schranke beim KW Garstadt war noch die ...</td>\n",
       "      <td>Closed</td>\n",
       "      <td>Lack of emergency routes</td>\n",
       "      <td>-- Not selected --</td>\n",
       "      <td>None</td>\n",
       "      <td>Not investigated</td>\n",
       "      <td>2022-02-07</td>\n",
       "      <td>2022-03-23</td>\n",
       "      <td>2022-03-24</td>\n",
       "      <td>No</td>\n",
       "      <td>NaN</td>\n",
       "      <td>2022-03-24</td>\n",
       "      <td>1.0</td>\n",
       "      <td>2022-09-14 09:28:01</td>\n",
       "      <td>2100-12-31</td>\n",
       "      <td>The old emergency number was still attached to...</td>\n",
       "      <td>de</td>\n",
       "    </tr>\n",
       "  </tbody>\n",
       "</table>\n",
       "</div>"
      ],
      "text/plain": [
       "      caseno                  company functional_group  \\\n",
       "4663   24407  Uniper Group (70006651)   COO (70017898)   \n",
       "4899   24407  Uniper Group (70006651)   COO (70017898)   \n",
       "\n",
       "                         function      functional_area  \\\n",
       "4663  Asset Operations (70017927)  Hydro DE (70018324)   \n",
       "4899  Asset Operations (70017927)  Hydro DE (70018324)   \n",
       "\n",
       "                   functional_location functional_sub_location location_sid  \\\n",
       "4663  Kraftwerksgruppe Main (70018329)                                28056   \n",
       "4899  Kraftwerksgruppe Main (70018329)                                28056   \n",
       "\n",
       "     location_short country_short sl_country sl_location_lvl_1  \\\n",
       "4663           Main            DE    Germany          Hydro DE   \n",
       "4899           Main            DE    Germany          Hydro DE   \n",
       "\n",
       "     sl_location_lvl_2 sl_location_lvl_3 sl_location_lvl_4  \\\n",
       "4663   Rivergroup Main              None              None   \n",
       "4899   Rivergroup Main              None              None   \n",
       "\n",
       "                   title employment_category    case_type case_severity  \\\n",
       "4663  Alte Notfallnummer     Uniper employee       Safety  Observations   \n",
       "4899  Alte Notfallnummer     Uniper employee  Environment  Observations   \n",
       "\n",
       "      actual_workdays_lta                                   case_description  \\\n",
       "4663                  NaN  An der Schranke beim KW Garstadt war noch die ...   \n",
       "4899                  NaN  An der Schranke beim KW Garstadt war noch die ...   \n",
       "\n",
       "      status hazard_physical_security_event        work_process  \\\n",
       "4663  Closed       Lack of emergency routes  -- Not selected --   \n",
       "4899  Closed       Lack of emergency routes  -- Not selected --   \n",
       "\n",
       "     imm_action_taken_recom full_investigation_done case_occurence_date  \\\n",
       "4663                   None        Not investigated          2022-02-07   \n",
       "4899                   None        Not investigated          2022-02-07   \n",
       "\n",
       "     created_date modified_date approved_within_deadline  personal_injuries  \\\n",
       "4663   2022-03-23    2022-03-24                       No                NaN   \n",
       "4899   2022-03-23    2022-03-24                       No                NaN   \n",
       "\n",
       "     case_closed_date  cases_no_of_registrations          valid_from  \\\n",
       "4663       2022-03-24                        1.0 2022-09-14 09:28:01   \n",
       "4899       2022-03-24                        1.0 2022-09-14 09:28:01   \n",
       "\n",
       "       valid_to                                case_description_en language  \n",
       "4663 2100-12-31  The old emergency number was still attached to...       de  \n",
       "4899 2100-12-31  The old emergency number was still attached to...       de  "
      ]
     },
     "execution_count": 20,
     "metadata": {},
     "output_type": "execute_result"
    }
   ],
   "source": [
    "incidents[incidents['case_description_en'] == 'The old emergency number was still attached to the barrier at the Garstadt power plant']"
   ]
  },
  {
   "cell_type": "code",
   "execution_count": 6,
   "id": "7f8943bf",
   "metadata": {},
   "outputs": [
    {
     "data": {
      "text/html": [
       "<div>\n",
       "<style scoped>\n",
       "    .dataframe tbody tr th:only-of-type {\n",
       "        vertical-align: middle;\n",
       "    }\n",
       "\n",
       "    .dataframe tbody tr th {\n",
       "        vertical-align: top;\n",
       "    }\n",
       "\n",
       "    .dataframe thead th {\n",
       "        text-align: right;\n",
       "    }\n",
       "</style>\n",
       "<table border=\"1\" class=\"dataframe\">\n",
       "  <thead>\n",
       "    <tr style=\"text-align: right;\">\n",
       "      <th></th>\n",
       "      <th>caseno</th>\n",
       "      <th>company</th>\n",
       "      <th>functional_group</th>\n",
       "      <th>function</th>\n",
       "      <th>functional_area</th>\n",
       "      <th>functional_location</th>\n",
       "      <th>functional_sub_location</th>\n",
       "      <th>location_sid</th>\n",
       "      <th>location_short</th>\n",
       "      <th>country_short</th>\n",
       "      <th>sl_country</th>\n",
       "      <th>sl_location_lvl_1</th>\n",
       "      <th>sl_location_lvl_2</th>\n",
       "      <th>sl_location_lvl_3</th>\n",
       "      <th>sl_location_lvl_4</th>\n",
       "      <th>title</th>\n",
       "      <th>employment_category</th>\n",
       "      <th>case_type</th>\n",
       "      <th>case_severity</th>\n",
       "      <th>actual_workdays_lta</th>\n",
       "      <th>case_description</th>\n",
       "      <th>status</th>\n",
       "      <th>hazard_physical_security_event</th>\n",
       "      <th>work_process</th>\n",
       "      <th>imm_action_taken_recom</th>\n",
       "      <th>full_investigation_done</th>\n",
       "      <th>case_occurence_date</th>\n",
       "      <th>created_date</th>\n",
       "      <th>modified_date</th>\n",
       "      <th>approved_within_deadline</th>\n",
       "      <th>personal_injuries</th>\n",
       "      <th>case_closed_date</th>\n",
       "      <th>cases_no_of_registrations</th>\n",
       "      <th>valid_from</th>\n",
       "      <th>valid_to</th>\n",
       "      <th>case_description_en</th>\n",
       "      <th>language</th>\n",
       "    </tr>\n",
       "  </thead>\n",
       "  <tbody>\n",
       "    <tr>\n",
       "      <th>0</th>\n",
       "      <td>32776</td>\n",
       "      <td>Uniper Group (70006651)</td>\n",
       "      <td>COO (70017898)</td>\n",
       "      <td>Asset Operations (70017927)</td>\n",
       "      <td>CCGT (70017930)</td>\n",
       "      <td>Grain UK (70019210)</td>\n",
       "      <td></td>\n",
       "      <td>8138</td>\n",
       "      <td>PP GRA</td>\n",
       "      <td>UK</td>\n",
       "      <td>UK</td>\n",
       "      <td>Gas Turbine Fleet</td>\n",
       "      <td>Grain</td>\n",
       "      <td>None</td>\n",
       "      <td>None</td>\n",
       "      <td>61BFT20 CB faulty</td>\n",
       "      <td>Uniper employee</td>\n",
       "      <td>Process Safety</td>\n",
       "      <td>Near Hits</td>\n",
       "      <td>NaN</td>\n",
       "      <td>415V circuit breaker from 11kv transformer sup...</td>\n",
       "      <td>Approved</td>\n",
       "      <td>Occupational Safety and Process Safety</td>\n",
       "      <td>Inspection and monitoring</td>\n",
       "      <td>Recommended to fault find why this has happene...</td>\n",
       "      <td>Investigated</td>\n",
       "      <td>2023-03-19</td>\n",
       "      <td>2023-03-20</td>\n",
       "      <td>2023-05-24</td>\n",
       "      <td>No</td>\n",
       "      <td>NaN</td>\n",
       "      <td>None</td>\n",
       "      <td>1.0</td>\n",
       "      <td>2023-05-25 01:50:46</td>\n",
       "      <td>2100-12-31</td>\n",
       "      <td>415V circuit breaker from 11kv transformer sup...</td>\n",
       "      <td>en</td>\n",
       "    </tr>\n",
       "    <tr>\n",
       "      <th>1</th>\n",
       "      <td>32024</td>\n",
       "      <td>Uniper Group (70006651)</td>\n",
       "      <td>COO (70017898)</td>\n",
       "      <td>Nuclear Sweden (70017948)</td>\n",
       "      <td>PM Oskarshamn (70018698)</td>\n",
       "      <td></td>\n",
       "      <td></td>\n",
       "      <td>8141</td>\n",
       "      <td>NPP OS</td>\n",
       "      <td>NO</td>\n",
       "      <td>Sweden</td>\n",
       "      <td>Nuclear Sweden</td>\n",
       "      <td>Oskarshamn (Nuclear)</td>\n",
       "      <td>None</td>\n",
       "      <td>None</td>\n",
       "      <td>Oskarshamn 1 - RIO - Pardörr mellan 4.71 och 4...</td>\n",
       "      <td>Contractor</td>\n",
       "      <td>Safety</td>\n",
       "      <td>Observations</td>\n",
       "      <td>NaN</td>\n",
       "      <td>Oskarshamn 1 - RIO - Pardörr mellan 4.71 och 4...</td>\n",
       "      <td>Closed</td>\n",
       "      <td>Occupational Safety and Process Safety</td>\n",
       "      <td>-- Not selected --</td>\n",
       "      <td>None</td>\n",
       "      <td>Not investigated</td>\n",
       "      <td>2023-02-15</td>\n",
       "      <td>2023-02-15</td>\n",
       "      <td>2023-05-24</td>\n",
       "      <td>-- Not selected --</td>\n",
       "      <td>NaN</td>\n",
       "      <td>2023-03-17</td>\n",
       "      <td>1.0</td>\n",
       "      <td>2023-05-25 01:50:46</td>\n",
       "      <td>2100-12-31</td>\n",
       "      <td>Oskarshamn 1 - RIO - Pair door between 4.71 an...</td>\n",
       "      <td>sv</td>\n",
       "    </tr>\n",
       "    <tr>\n",
       "      <th>2</th>\n",
       "      <td>29905</td>\n",
       "      <td>Uniper Group (70006651)</td>\n",
       "      <td>COO (70017898)</td>\n",
       "      <td>Asset Operations (70017927)</td>\n",
       "      <td>Hydro DE (70018324)</td>\n",
       "      <td>Kraftwerksgruppe Lech (70018328)</td>\n",
       "      <td>Betrieb &amp; Instandhaltung (70018347)</td>\n",
       "      <td>8279</td>\n",
       "      <td>FIS</td>\n",
       "      <td>DE</td>\n",
       "      <td>Germany</td>\n",
       "      <td>Hydro DE</td>\n",
       "      <td>Rivergroup Lech</td>\n",
       "      <td>Finsterau KW</td>\n",
       "      <td>None</td>\n",
       "      <td>Fluchtwegekennzeichnung</td>\n",
       "      <td>Uniper employee</td>\n",
       "      <td>None</td>\n",
       "      <td>Observations</td>\n",
       "      <td>NaN</td>\n",
       "      <td>Fluchtwegekennzeichnung Lagerraum Ausgangsbauw...</td>\n",
       "      <td>Closed</td>\n",
       "      <td>Lack of emergency routes</td>\n",
       "      <td>-- Not selected --</td>\n",
       "      <td>Kraftwerker eingewiesen und Anbringung angeord...</td>\n",
       "      <td>Not investigated</td>\n",
       "      <td>2022-11-21</td>\n",
       "      <td>2022-11-25</td>\n",
       "      <td>2023-05-24</td>\n",
       "      <td>No</td>\n",
       "      <td>NaN</td>\n",
       "      <td>2023-05-24</td>\n",
       "      <td>1.0</td>\n",
       "      <td>2023-05-25 01:50:46</td>\n",
       "      <td>2100-12-31</td>\n",
       "      <td>Escape route marking storage room starting str...</td>\n",
       "      <td>de</td>\n",
       "    </tr>\n",
       "  </tbody>\n",
       "</table>\n",
       "</div>"
      ],
      "text/plain": [
       "   caseno                  company functional_group  \\\n",
       "0   32776  Uniper Group (70006651)   COO (70017898)   \n",
       "1   32024  Uniper Group (70006651)   COO (70017898)   \n",
       "2   29905  Uniper Group (70006651)   COO (70017898)   \n",
       "\n",
       "                      function           functional_area  \\\n",
       "0  Asset Operations (70017927)           CCGT (70017930)   \n",
       "1    Nuclear Sweden (70017948)  PM Oskarshamn (70018698)   \n",
       "2  Asset Operations (70017927)       Hydro DE (70018324)   \n",
       "\n",
       "                functional_location              functional_sub_location  \\\n",
       "0               Grain UK (70019210)                                        \n",
       "1                                                                          \n",
       "2  Kraftwerksgruppe Lech (70018328)  Betrieb & Instandhaltung (70018347)   \n",
       "\n",
       "  location_sid location_short country_short sl_country  sl_location_lvl_1  \\\n",
       "0         8138         PP GRA            UK         UK  Gas Turbine Fleet   \n",
       "1         8141         NPP OS            NO     Sweden     Nuclear Sweden   \n",
       "2         8279            FIS            DE    Germany           Hydro DE   \n",
       "\n",
       "      sl_location_lvl_2 sl_location_lvl_3 sl_location_lvl_4  \\\n",
       "0                 Grain              None              None   \n",
       "1  Oskarshamn (Nuclear)              None              None   \n",
       "2       Rivergroup Lech      Finsterau KW              None   \n",
       "\n",
       "                                               title employment_category  \\\n",
       "0                                  61BFT20 CB faulty     Uniper employee   \n",
       "1  Oskarshamn 1 - RIO - Pardörr mellan 4.71 och 4...          Contractor   \n",
       "2                            Fluchtwegekennzeichnung     Uniper employee   \n",
       "\n",
       "        case_type case_severity  actual_workdays_lta  \\\n",
       "0  Process Safety     Near Hits                  NaN   \n",
       "1          Safety  Observations                  NaN   \n",
       "2            None  Observations                  NaN   \n",
       "\n",
       "                                    case_description    status  \\\n",
       "0  415V circuit breaker from 11kv transformer sup...  Approved   \n",
       "1  Oskarshamn 1 - RIO - Pardörr mellan 4.71 och 4...    Closed   \n",
       "2  Fluchtwegekennzeichnung Lagerraum Ausgangsbauw...    Closed   \n",
       "\n",
       "           hazard_physical_security_event               work_process  \\\n",
       "0  Occupational Safety and Process Safety  Inspection and monitoring   \n",
       "1  Occupational Safety and Process Safety         -- Not selected --   \n",
       "2                Lack of emergency routes         -- Not selected --   \n",
       "\n",
       "                              imm_action_taken_recom full_investigation_done  \\\n",
       "0  Recommended to fault find why this has happene...            Investigated   \n",
       "1                                               None        Not investigated   \n",
       "2  Kraftwerker eingewiesen und Anbringung angeord...        Not investigated   \n",
       "\n",
       "  case_occurence_date created_date modified_date approved_within_deadline  \\\n",
       "0          2023-03-19   2023-03-20    2023-05-24                       No   \n",
       "1          2023-02-15   2023-02-15    2023-05-24       -- Not selected --   \n",
       "2          2022-11-21   2022-11-25    2023-05-24                       No   \n",
       "\n",
       "   personal_injuries case_closed_date  cases_no_of_registrations  \\\n",
       "0                NaN             None                        1.0   \n",
       "1                NaN       2023-03-17                        1.0   \n",
       "2                NaN       2023-05-24                        1.0   \n",
       "\n",
       "           valid_from   valid_to  \\\n",
       "0 2023-05-25 01:50:46 2100-12-31   \n",
       "1 2023-05-25 01:50:46 2100-12-31   \n",
       "2 2023-05-25 01:50:46 2100-12-31   \n",
       "\n",
       "                                 case_description_en language  \n",
       "0  415V circuit breaker from 11kv transformer sup...       en  \n",
       "1  Oskarshamn 1 - RIO - Pair door between 4.71 an...       sv  \n",
       "2  Escape route marking storage room starting str...       de  "
      ]
     },
     "execution_count": 6,
     "metadata": {},
     "output_type": "execute_result"
    }
   ],
   "source": [
    "incidents.head(3)"
   ]
  },
  {
   "cell_type": "code",
   "execution_count": 7,
   "id": "26224ab9",
   "metadata": {},
   "outputs": [],
   "source": [
    "incidents = incidents.drop_duplicates(['caseno', 'case_type'])\n",
    "incidents = incidents[~incidents['case_type'].isna()]"
   ]
  },
  {
   "cell_type": "code",
   "execution_count": 8,
   "id": "0271c1b6",
   "metadata": {},
   "outputs": [],
   "source": [
    "texts = incidents['case_description_en'].values\n",
    "targets = incidents['case_type'].values"
   ]
  },
  {
   "cell_type": "code",
   "execution_count": 9,
   "id": "15c20d45",
   "metadata": {},
   "outputs": [],
   "source": [
    "texts_train, texts_test, targets_train, targets_test = train_test_split(texts, targets, test_size=0.15)"
   ]
  },
  {
   "cell_type": "code",
   "execution_count": 10,
   "id": "7be468ad",
   "metadata": {},
   "outputs": [],
   "source": [
    "enc = OneHotEncoder(handle_unknown='ignore', sparse=False)\n",
    "Y_train = enc.fit_transform(targets_train.reshape(-1, 1))\n",
    "Y_test = enc.fit_transform(targets_test.reshape(-1, 1))"
   ]
  },
  {
   "cell_type": "markdown",
   "id": "baaed1e8",
   "metadata": {},
   "source": [
    "## 3:"
   ]
  },
  {
   "cell_type": "code",
   "execution_count": 65,
   "id": "c0da53d4",
   "metadata": {},
   "outputs": [
    {
     "name": "stderr",
     "output_type": "stream",
     "text": [
      "model_head.pkl not found on HuggingFace Hub, initialising classification head with random weights. You should TRAIN this model on a downstream task to use it for predictions and inference.\n"
     ]
    }
   ],
   "source": [
    "model = SetFitModel.from_pretrained(\n",
    "    'sentence-transformers/all-mpnet-base-v2',\n",
    "    use_differentiable_head=True,\n",
    "    head_params={'out_features': 6}, )\n",
    "\n",
    "model_ = SentenceTransformer('all-mpnet-base-v2')"
   ]
  },
  {
   "cell_type": "code",
   "execution_count": 74,
   "id": "05d6c7a0",
   "metadata": {},
   "outputs": [],
   "source": [
    "model_ = SentenceTransformer('all-mpnet-base-v2')"
   ]
  },
  {
   "cell_type": "code",
   "execution_count": 8,
   "id": "61bcef4d",
   "metadata": {},
   "outputs": [],
   "source": [
    "ord_enc = OrdinalEncoder()\n",
    "ord_enc.fit(targets_train.reshape(-1, 1))\n",
    "\n",
    "targets_test_ = ord_enc.transform(targets_test.reshape(-1, 1))\n",
    "targets_train_ = ord_enc.transform(targets_train.reshape(-1, 1))"
   ]
  },
  {
   "cell_type": "code",
   "execution_count": 9,
   "id": "5791a97c",
   "metadata": {},
   "outputs": [],
   "source": [
    "targets_test_ = targets_test_.flatten()\n",
    "targets_train_ = targets_train_.flatten()"
   ]
  },
  {
   "cell_type": "code",
   "execution_count": 11,
   "id": "5fbebbe7",
   "metadata": {},
   "outputs": [],
   "source": [
    "eval_dataset = Dataset.from_dict({'text':  texts_test, 'label': targets_test_})\n",
    "train_dataset = Dataset.from_dict({'text':  texts_train, 'label': targets_train_})"
   ]
  },
  {
   "cell_type": "code",
   "execution_count": 69,
   "id": "a574db32",
   "metadata": {},
   "outputs": [],
   "source": [
    "def compute_metrics(y_pred, y_test):\n",
    "    y_pred = list(y_pred.cpu().numpy())\n",
    "    return {\n",
    "        \"presision\": precision_score(y_test, y_pred, pos_label='positive', average='micro'),\n",
    "        \"recall\": recall_score(y_test, y_pred, pos_label='positive', average='micro'),\n",
    "    }"
   ]
  },
  {
   "cell_type": "code",
   "execution_count": 72,
   "id": "76d83840",
   "metadata": {},
   "outputs": [],
   "source": [
    "trainer = SetFitTrainer(\n",
    "    model=model,\n",
    "    train_dataset=train_dataset,\n",
    "    eval_dataset=eval_dataset,\n",
    "    metric=compute_metrics,\n",
    "    num_iterations=5,\n",
    "    num_epochs=2,\n",
    "    batch_size=8,\n",
    ")\n",
    "\n"
   ]
  },
  {
   "cell_type": "code",
   "execution_count": 73,
   "id": "876a9bef",
   "metadata": {},
   "outputs": [
    {
     "data": {
      "application/vnd.jupyter.widget-view+json": {
       "model_id": "1cd1f2a1085c457a8f1c85b2a4a3a518",
       "version_major": 2,
       "version_minor": 0
      },
      "text/plain": [
       "Generating Training Pairs:   0%|          | 0/5 [00:00<?, ?it/s]"
      ]
     },
     "metadata": {},
     "output_type": "display_data"
    },
    {
     "name": "stderr",
     "output_type": "stream",
     "text": [
      "***** Running training *****\n",
      "  Num examples = 90270\n",
      "  Num epochs = 2\n",
      "  Total optimization steps = 22568\n",
      "  Total train batch size = 8\n"
     ]
    },
    {
     "data": {
      "application/vnd.jupyter.widget-view+json": {
       "model_id": "e8726933c27b45199a568f6e458ce4e7",
       "version_major": 2,
       "version_minor": 0
      },
      "text/plain": [
       "Epoch:   0%|          | 0/2 [00:00<?, ?it/s]"
      ]
     },
     "metadata": {},
     "output_type": "display_data"
    },
    {
     "data": {
      "application/vnd.jupyter.widget-view+json": {
       "model_id": "2a8a94c942a5402b96000dc61e1fea06",
       "version_major": 2,
       "version_minor": 0
      },
      "text/plain": [
       "Iteration:   0%|          | 0/11284 [00:00<?, ?it/s]"
      ]
     },
     "metadata": {},
     "output_type": "display_data"
    },
    {
     "data": {
      "application/vnd.jupyter.widget-view+json": {
       "model_id": "5eecf5ee696b49e3961b7d6db7336373",
       "version_major": 2,
       "version_minor": 0
      },
      "text/plain": [
       "Iteration:   0%|          | 0/11284 [00:00<?, ?it/s]"
      ]
     },
     "metadata": {},
     "output_type": "display_data"
    },
    {
     "name": "stderr",
     "output_type": "stream",
     "text": [
      "***** Running evaluation *****\n",
      "/anaconda/envs/azureml_py38/lib/python3.8/site-packages/sklearn/metrics/_classification.py:1318: UserWarning: Note that pos_label (set to 'positive') is ignored when average != 'binary' (got 'micro'). You may use labels=[pos_label] to specify a single positive class.\n",
      "  warnings.warn(\"Note that pos_label (set to %r) is ignored when \"\n"
     ]
    }
   ],
   "source": [
    "trainer.train()\n",
    "metrics = trainer.evaluate()"
   ]
  },
  {
   "cell_type": "code",
   "execution_count": 76,
   "id": "60f496cb",
   "metadata": {},
   "outputs": [
    {
     "data": {
      "text/plain": [
       "{'presision': 0.015683814303638646, 'recall': 0.015683814303638646}"
      ]
     },
     "execution_count": 76,
     "metadata": {},
     "output_type": "execute_result"
    }
   ],
   "source": [
    "metrics"
   ]
  },
  {
   "cell_type": "code",
   "execution_count": 91,
   "id": "1085b6ec",
   "metadata": {
    "scrolled": true
   },
   "outputs": [
    {
     "data": {
      "text/html": [
       "<div>\n",
       "<style scoped>\n",
       "    .dataframe tbody tr th:only-of-type {\n",
       "        vertical-align: middle;\n",
       "    }\n",
       "\n",
       "    .dataframe tbody tr th {\n",
       "        vertical-align: top;\n",
       "    }\n",
       "\n",
       "    .dataframe thead th {\n",
       "        text-align: right;\n",
       "    }\n",
       "</style>\n",
       "<table border=\"1\" class=\"dataframe\">\n",
       "  <thead>\n",
       "    <tr style=\"text-align: right;\">\n",
       "      <th></th>\n",
       "      <th>text</th>\n",
       "      <th>label</th>\n",
       "      <th>label_pred</th>\n",
       "    </tr>\n",
       "  </thead>\n",
       "  <tbody>\n",
       "    <tr>\n",
       "      <th>29</th>\n",
       "      <td>Blocked fire hydrant 2V0396D - Clearance</td>\n",
       "      <td>Operational loss</td>\n",
       "      <td>Operational loss</td>\n",
       "    </tr>\n",
       "    <tr>\n",
       "      <th>108</th>\n",
       "      <td>Significant number of failures of undervoltage...</td>\n",
       "      <td>Asset and Reputation damage/loss</td>\n",
       "      <td>Asset and Reputation damage/loss</td>\n",
       "    </tr>\n",
       "    <tr>\n",
       "      <th>204</th>\n",
       "      <td>The glass panes on 28m block 1 on the degasser...</td>\n",
       "      <td>Asset and Reputation damage/loss</td>\n",
       "      <td>Asset and Reputation damage/loss</td>\n",
       "    </tr>\n",
       "    <tr>\n",
       "      <th>255</th>\n",
       "      <td>RRM Rail Welding</td>\n",
       "      <td>Operational loss</td>\n",
       "      <td>Operational loss</td>\n",
       "    </tr>\n",
       "    <tr>\n",
       "      <th>310</th>\n",
       "      <td>Defective fan, NBP not functional</td>\n",
       "      <td>Asset and Reputation damage/loss</td>\n",
       "      <td>Asset and Reputation damage/loss</td>\n",
       "    </tr>\n",
       "    <tr>\n",
       "      <th>410</th>\n",
       "      <td>Fan heater in the 35kV cable cellar has expire...</td>\n",
       "      <td>Asset and Reputation damage/loss</td>\n",
       "      <td>Asset and Reputation damage/loss</td>\n",
       "    </tr>\n",
       "    <tr>\n",
       "      <th>414</th>\n",
       "      <td>A fire door does not close properly, another d...</td>\n",
       "      <td>Asset and Reputation damage/loss</td>\n",
       "      <td>Asset and Reputation damage/loss</td>\n",
       "    </tr>\n",
       "    <tr>\n",
       "      <th>460</th>\n",
       "      <td>Accumulation of illegally deposited garbage in...</td>\n",
       "      <td>Asset and Reputation damage/loss</td>\n",
       "      <td>Asset and Reputation damage/loss</td>\n",
       "    </tr>\n",
       "    <tr>\n",
       "      <th>508</th>\n",
       "      <td>SF6 shield needs to be revised in terms of con...</td>\n",
       "      <td>Asset and Reputation damage/loss</td>\n",
       "      <td>Asset and Reputation damage/loss</td>\n",
       "    </tr>\n",
       "    <tr>\n",
       "      <th>641</th>\n",
       "      <td>9 heaters do not have a valid DGUV V3 test.</td>\n",
       "      <td>Asset and Reputation damage/loss</td>\n",
       "      <td>Asset and Reputation damage/loss</td>\n",
       "    </tr>\n",
       "    <tr>\n",
       "      <th>671</th>\n",
       "      <td>During the verification of gas metering stream...</td>\n",
       "      <td>Asset and Reputation damage/loss</td>\n",
       "      <td>Asset and Reputation damage/loss</td>\n",
       "    </tr>\n",
       "    <tr>\n",
       "      <th>688</th>\n",
       "      <td>Internal inspection of regulator oil pressure ...</td>\n",
       "      <td>Asset and Reputation damage/loss</td>\n",
       "      <td>Asset and Reputation damage/loss</td>\n",
       "    </tr>\n",
       "    <tr>\n",
       "      <th>777</th>\n",
       "      <td>Scraper collided with the outer housing on the...</td>\n",
       "      <td>Asset and Reputation damage/loss</td>\n",
       "      <td>Asset and Reputation damage/loss</td>\n",
       "    </tr>\n",
       "    <tr>\n",
       "      <th>787</th>\n",
       "      <td>The strong windstorm broke and tore off the pl...</td>\n",
       "      <td>Asset and Reputation damage/loss</td>\n",
       "      <td>Asset and Reputation damage/loss</td>\n",
       "    </tr>\n",
       "    <tr>\n",
       "      <th>982</th>\n",
       "      <td>There was crushed stone damage behind the rear...</td>\n",
       "      <td>Operational loss</td>\n",
       "      <td>Operational loss</td>\n",
       "    </tr>\n",
       "    <tr>\n",
       "      <th>987</th>\n",
       "      <td>The room and the hallway in front of it are st...</td>\n",
       "      <td>Asset and Reputation damage/loss</td>\n",
       "      <td>Asset and Reputation damage/loss</td>\n",
       "    </tr>\n",
       "    <tr>\n",
       "      <th>1010</th>\n",
       "      <td>Since the closure of MPP1 and 2, there has bee...</td>\n",
       "      <td>Asset and Reputation damage/loss</td>\n",
       "      <td>Asset and Reputation damage/loss</td>\n",
       "    </tr>\n",
       "    <tr>\n",
       "      <th>1167</th>\n",
       "      <td>Inspection cage ladder at the chimney of HBW l...</td>\n",
       "      <td>Asset and Reputation damage/loss</td>\n",
       "      <td>Asset and Reputation damage/loss</td>\n",
       "    </tr>\n",
       "    <tr>\n",
       "      <th>1242</th>\n",
       "      <td>Flexible hose connection to oil line with \"ope...</td>\n",
       "      <td>Asset and Reputation damage/loss</td>\n",
       "      <td>Asset and Reputation damage/loss</td>\n",
       "    </tr>\n",
       "    <tr>\n",
       "      <th>1328</th>\n",
       "      <td>Buer 110 KV - Tall grass was noticed in the pl...</td>\n",
       "      <td>Asset and Reputation damage/loss</td>\n",
       "      <td>Asset and Reputation damage/loss</td>\n",
       "    </tr>\n",
       "    <tr>\n",
       "      <th>1335</th>\n",
       "      <td>General order and cleanliness, Dirty floor</td>\n",
       "      <td>Asset and Reputation damage/loss</td>\n",
       "      <td>Asset and Reputation damage/loss</td>\n",
       "    </tr>\n",
       "    <tr>\n",
       "      <th>1374</th>\n",
       "      <td>The wall brackets of the fire extinguishers ar...</td>\n",
       "      <td>Asset and Reputation damage/loss</td>\n",
       "      <td>Asset and Reputation damage/loss</td>\n",
       "    </tr>\n",
       "    <tr>\n",
       "      <th>1418</th>\n",
       "      <td>Is an escape plan also mandatory in the protec...</td>\n",
       "      <td>Asset and Reputation damage/loss</td>\n",
       "      <td>Asset and Reputation damage/loss</td>\n",
       "    </tr>\n",
       "    <tr>\n",
       "      <th>1460</th>\n",
       "      <td>Outdoor system near construction site power di...</td>\n",
       "      <td>Asset and Reputation damage/loss</td>\n",
       "      <td>Asset and Reputation damage/loss</td>\n",
       "    </tr>\n",
       "    <tr>\n",
       "      <th>1591</th>\n",
       "      <td>Regular pruning is necessary</td>\n",
       "      <td>Asset and Reputation damage/loss</td>\n",
       "      <td>Asset and Reputation damage/loss</td>\n",
       "    </tr>\n",
       "  </tbody>\n",
       "</table>\n",
       "</div>"
      ],
      "text/plain": [
       "                                                   text  \\\n",
       "29             Blocked fire hydrant 2V0396D - Clearance   \n",
       "108   Significant number of failures of undervoltage...   \n",
       "204   The glass panes on 28m block 1 on the degasser...   \n",
       "255                                    RRM Rail Welding   \n",
       "310                   Defective fan, NBP not functional   \n",
       "410   Fan heater in the 35kV cable cellar has expire...   \n",
       "414   A fire door does not close properly, another d...   \n",
       "460   Accumulation of illegally deposited garbage in...   \n",
       "508   SF6 shield needs to be revised in terms of con...   \n",
       "641         9 heaters do not have a valid DGUV V3 test.   \n",
       "671   During the verification of gas metering stream...   \n",
       "688   Internal inspection of regulator oil pressure ...   \n",
       "777   Scraper collided with the outer housing on the...   \n",
       "787   The strong windstorm broke and tore off the pl...   \n",
       "982   There was crushed stone damage behind the rear...   \n",
       "987   The room and the hallway in front of it are st...   \n",
       "1010  Since the closure of MPP1 and 2, there has bee...   \n",
       "1167  Inspection cage ladder at the chimney of HBW l...   \n",
       "1242  Flexible hose connection to oil line with \"ope...   \n",
       "1328  Buer 110 KV - Tall grass was noticed in the pl...   \n",
       "1335         General order and cleanliness, Dirty floor   \n",
       "1374  The wall brackets of the fire extinguishers ar...   \n",
       "1418  Is an escape plan also mandatory in the protec...   \n",
       "1460  Outdoor system near construction site power di...   \n",
       "1591                       Regular pruning is necessary   \n",
       "\n",
       "                                 label                        label_pred  \n",
       "29                    Operational loss                  Operational loss  \n",
       "108   Asset and Reputation damage/loss  Asset and Reputation damage/loss  \n",
       "204   Asset and Reputation damage/loss  Asset and Reputation damage/loss  \n",
       "255                   Operational loss                  Operational loss  \n",
       "310   Asset and Reputation damage/loss  Asset and Reputation damage/loss  \n",
       "410   Asset and Reputation damage/loss  Asset and Reputation damage/loss  \n",
       "414   Asset and Reputation damage/loss  Asset and Reputation damage/loss  \n",
       "460   Asset and Reputation damage/loss  Asset and Reputation damage/loss  \n",
       "508   Asset and Reputation damage/loss  Asset and Reputation damage/loss  \n",
       "641   Asset and Reputation damage/loss  Asset and Reputation damage/loss  \n",
       "671   Asset and Reputation damage/loss  Asset and Reputation damage/loss  \n",
       "688   Asset and Reputation damage/loss  Asset and Reputation damage/loss  \n",
       "777   Asset and Reputation damage/loss  Asset and Reputation damage/loss  \n",
       "787   Asset and Reputation damage/loss  Asset and Reputation damage/loss  \n",
       "982                   Operational loss                  Operational loss  \n",
       "987   Asset and Reputation damage/loss  Asset and Reputation damage/loss  \n",
       "1010  Asset and Reputation damage/loss  Asset and Reputation damage/loss  \n",
       "1167  Asset and Reputation damage/loss  Asset and Reputation damage/loss  \n",
       "1242  Asset and Reputation damage/loss  Asset and Reputation damage/loss  \n",
       "1328  Asset and Reputation damage/loss  Asset and Reputation damage/loss  \n",
       "1335  Asset and Reputation damage/loss  Asset and Reputation damage/loss  \n",
       "1374  Asset and Reputation damage/loss  Asset and Reputation damage/loss  \n",
       "1418  Asset and Reputation damage/loss  Asset and Reputation damage/loss  \n",
       "1460  Asset and Reputation damage/loss  Asset and Reputation damage/loss  \n",
       "1591  Asset and Reputation damage/loss  Asset and Reputation damage/loss  "
      ]
     },
     "execution_count": 91,
     "metadata": {},
     "output_type": "execute_result"
    }
   ],
   "source": [
    "df[df['label'] == df['label_pred']]"
   ]
  },
  {
   "cell_type": "code",
   "execution_count": 77,
   "id": "09464e1b",
   "metadata": {},
   "outputs": [],
   "source": [
    "preds = model.predict(texts_test)"
   ]
  },
  {
   "cell_type": "code",
   "execution_count": 83,
   "id": "0d5dc9bd",
   "metadata": {},
   "outputs": [],
   "source": [
    "preds_back = ord_enc.inverse_transform(preds.cpu().numpy().reshape(-1, 1)).flatten()"
   ]
  },
  {
   "cell_type": "code",
   "execution_count": 84,
   "id": "6be585cc",
   "metadata": {},
   "outputs": [],
   "source": [
    "df = pd.DataFrame({'text': texts_test, 'label': targets_test, 'label_pred': preds_back})"
   ]
  },
  {
   "cell_type": "code",
   "execution_count": 88,
   "id": "ca0c873a",
   "metadata": {},
   "outputs": [],
   "source": [
    "df_ = df[(df['label'] != 'Environment') & (df['label_pred'] == 'Environment')]"
   ]
  },
  {
   "cell_type": "code",
   "execution_count": null,
   "id": "28b1dddf",
   "metadata": {},
   "outputs": [],
   "source": [
    "df_"
   ]
  },
  {
   "cell_type": "code",
   "execution_count": 89,
   "id": "54d07463",
   "metadata": {},
   "outputs": [
    {
     "data": {
      "text/plain": [
       "'Preservation of fuel analyses\\nFound that the proportion of volatiles in 4 out of 5 samples was above the limit value of the specification. (4th/15th/20th/24.042023, see attached test report.)\\nCoal has already been used in some cases.'"
      ]
     },
     "metadata": {},
     "output_type": "display_data"
    },
    {
     "data": {
      "text/plain": [
       "'Oskarshamn 3 - RA3-23 ERF - 421 valves do not have a hood/plastic.'"
      ]
     },
     "metadata": {},
     "output_type": "display_data"
    },
    {
     "data": {
      "text/plain": [
       "'Oskarshamn 3 - New lock at gates 1304 and 1305'"
      ]
     },
     "metadata": {},
     "output_type": "display_data"
    },
    {
     "data": {
      "text/plain": [
       "'Whilst attempting to fill a water bowser, the vessel has come under vacuum and damaged the vessel.'"
      ]
     },
     "metadata": {},
     "output_type": "display_data"
    },
    {
     "data": {
      "text/plain": [
       "\"During dismounting from Afgraver A, the rails/biels of Opwerper are mounted.\\nFastening not visible due to growth of weeds.\\nI didn't want to step straight down, because then you step into a layer of mud. So I stepped a little further away from the stairs into the grass strip next to the rails (side of the stairs excavator), but in that grass (not visible) there was a bolt of the rail attachment to the rail foundation.\""
      ]
     },
     "metadata": {},
     "output_type": "display_data"
    },
    {
     "data": {
      "text/plain": [
       "'Flames on the connecting cables at a contactor in the control cabinet of the steam turbine transformer block 5.'"
      ]
     },
     "metadata": {},
     "output_type": "display_data"
    },
    {
     "data": {
      "text/plain": [
       "'A construction fence is still standing in the area around the reactors, which has already been cordoned off.'"
      ]
     },
     "metadata": {},
     "output_type": "display_data"
    }
   ],
   "source": [
    "for t in df_['text']:\n",
    "    display(t)"
   ]
  },
  {
   "cell_type": "code",
   "execution_count": 75,
   "id": "dd3f5edf",
   "metadata": {},
   "outputs": [],
   "source": [
    "#model._save_pretrained('./model/')"
   ]
  },
  {
   "cell_type": "code",
   "execution_count": 6,
   "id": "1f7649fd",
   "metadata": {},
   "outputs": [],
   "source": [
    "model = SetFitModel._from_pretrained('./model/')\n",
    "texts_train, texts_test, targets_train, targets_test = joblib.load('data.pkl')"
   ]
  },
  {
   "cell_type": "code",
   "execution_count": 92,
   "id": "b363e957",
   "metadata": {},
   "outputs": [],
   "source": [
    "embeddings_raw = model_.encode(texts_test, convert_to_tensor=False)\n",
    "embeddings_finetuned = model.model_body.encode(texts_test, convert_to_tensor=False)"
   ]
  },
  {
   "cell_type": "code",
   "execution_count": 93,
   "id": "d5748487",
   "metadata": {},
   "outputs": [],
   "source": [
    "embeddings_raw_2d = UMAP(n_neighbors=32, n_components=2, \n",
    "                         min_dist=0.0, metric='cosine').fit_transform(embeddings_raw)\n",
    "\n",
    "embeddings_finetuned_2d = UMAP(n_neighbors=32, n_components=2, \n",
    "                               min_dist=0.0, metric='cosine').fit_transform(embeddings_finetuned)"
   ]
  },
  {
   "cell_type": "code",
   "execution_count": 95,
   "id": "fe65bcd9",
   "metadata": {},
   "outputs": [
    {
     "name": "stdout",
     "output_type": "stream",
     "text": [
      "Operational loss\n"
     ]
    },
    {
     "data": {
      "image/png": "[encoded data removed]",
      "text/plain": [
       "<Figure size 800x400 with 2 Axes>"
      ]
     },
     "metadata": {},
     "output_type": "display_data"
    },
    {
     "name": "stdout",
     "output_type": "stream",
     "text": [
      "Information Security\n"
     ]
    },
    {
     "data": {
      "image/png": "[encoded data removed]",
      "text/plain": [
       "<Figure size 800x400 with 2 Axes>"
      ]
     },
     "metadata": {},
     "output_type": "display_data"
    },
    {
     "name": "stdout",
     "output_type": "stream",
     "text": [
      "Safety\n"
     ]
    },
    {
     "data": {
      "image/png": "[encoded data removed]",
      "text/plain": [
       "<Figure size 800x400 with 2 Axes>"
      ]
     },
     "metadata": {},
     "output_type": "display_data"
    },
    {
     "name": "stdout",
     "output_type": "stream",
     "text": [
      "Asset and Reputation damage/loss\n"
     ]
    },
    {
     "data": {
      "image/png": "[encoded data removed]",
      "text/plain": [
       "<Figure size 800x400 with 2 Axes>"
      ]
     },
     "metadata": {},
     "output_type": "display_data"
    },
    {
     "name": "stdout",
     "output_type": "stream",
     "text": [
      "Process Safety\n"
     ]
    },
    {
     "data": {
      "image/png": "[encoded data removed]",
      "text/plain": [
       "<Figure size 800x400 with 2 Axes>"
      ]
     },
     "metadata": {},
     "output_type": "display_data"
    },
    {
     "name": "stdout",
     "output_type": "stream",
     "text": [
      "Environment\n"
     ]
    },
    {
     "data": {
      "image/png": "[encoded data removed]",
      "text/plain": [
       "<Figure size 800x400 with 2 Axes>"
      ]
     },
     "metadata": {},
     "output_type": "display_data"
    }
   ],
   "source": [
    "targets_set = set(targets_test)\n",
    "for target in targets_set:\n",
    "    has_label = [True if target in x else False for x in targets_test]\n",
    "    fig, axs = plt.subplots(1,2, figsize=(8, 4), sharey='row')\n",
    "    ax1,ax2 = axs\n",
    "    print(target)\n",
    "    ax1.scatter(embeddings_raw_2d[:,0], embeddings_raw_2d[:,1], c=has_label, alpha=0.2)\n",
    "    ax2.scatter(embeddings_finetuned_2d[:,0], embeddings_finetuned_2d[:,1], c=has_label, alpha=0.2)\n",
    "    plt.show()"
   ]
  },
  {
   "cell_type": "markdown",
   "id": "25179867",
   "metadata": {},
   "source": [
    "### logistic regression"
   ]
  },
  {
   "cell_type": "markdown",
   "id": "2a55a9b2",
   "metadata": {},
   "source": [
    "#### finetuned inputs"
   ]
  },
  {
   "cell_type": "code",
   "execution_count": 7,
   "id": "1fa3df23",
   "metadata": {},
   "outputs": [],
   "source": [
    "X_train = model.model_body.encode(texts_train, convert_to_tensor=False)\n",
    "X_test = model.model_body.encode(texts_test, convert_to_tensor=False)"
   ]
  },
  {
   "cell_type": "code",
   "execution_count": 10,
   "id": "06cd9725",
   "metadata": {},
   "outputs": [],
   "source": [
    "clf = LogisticRegression(max_iter=1000).fit(X_train, targets_train_)"
   ]
  },
  {
   "cell_type": "code",
   "execution_count": 11,
   "id": "0b7bb75b",
   "metadata": {},
   "outputs": [],
   "source": [
    "labels_pred = clf.predict(X_test)"
   ]
  },
  {
   "cell_type": "code",
   "execution_count": 12,
   "id": "e833e9b8",
   "metadata": {},
   "outputs": [],
   "source": [
    "def compute_metrics(y_pred, y_test):\n",
    "    return {\n",
    "        \"presision\": precision_score(y_test, y_pred, average='micro'),\n",
    "        \"recall\": recall_score(y_test, y_pred, average='micro'),\n",
    "    }"
   ]
  },
  {
   "cell_type": "code",
   "execution_count": 46,
   "id": "335dc516",
   "metadata": {},
   "outputs": [
    {
     "name": "stderr",
     "output_type": "stream",
     "text": [
      "/anaconda/envs/azureml_py38/lib/python3.8/site-packages/sklearn/metrics/_classification.py:1318: UserWarning: Note that pos_label (set to 'positive') is ignored when average != 'binary' (got 'micro'). You may use labels=[pos_label] to specify a single positive class.\n",
      "  warnings.warn(\"Note that pos_label (set to %r) is ignored when \"\n"
     ]
    },
    {
     "data": {
      "text/plain": [
       "{'presision': 0.7208281053952321, 'recall': 0.7208281053952321}"
      ]
     },
     "execution_count": 46,
     "metadata": {},
     "output_type": "execute_result"
    }
   ],
   "source": [
    "compute_metrics(labels_pred, targets_test_)"
   ]
  },
  {
   "cell_type": "code",
   "execution_count": 47,
   "id": "3ed5caac",
   "metadata": {},
   "outputs": [],
   "source": [
    "preds_back = ord_enc.inverse_transform(labels_pred.reshape(-1, 1)).flatten()"
   ]
  },
  {
   "cell_type": "code",
   "execution_count": 48,
   "id": "52a0ad81",
   "metadata": {},
   "outputs": [],
   "source": [
    "df = pd.DataFrame({'text': texts_test, 'label': targets_test, 'label_pred': preds_back})"
   ]
  },
  {
   "cell_type": "code",
   "execution_count": 49,
   "id": "72c0fe5a",
   "metadata": {},
   "outputs": [],
   "source": [
    "df_ = df[(df['label'] != 'Environment') & (df['label_pred'] == 'Environment')]"
   ]
  },
  {
   "cell_type": "code",
   "execution_count": 50,
   "id": "21aa576f",
   "metadata": {},
   "outputs": [
    {
     "data": {
      "text/plain": [
       "'During vacuuming work with the stationary vacuum cleaning system on 31m boiler house, a static discharge occurred via the user.'"
      ]
     },
     "metadata": {},
     "output_type": "display_data"
    },
    {
     "data": {
      "text/plain": [
       "'Whilst lorries were being filled with dust there were excessive levels escaping from the dust silo'"
      ]
     },
     "metadata": {},
     "output_type": "display_data"
    },
    {
     "data": {
      "text/plain": [
       "'The container for processing the \"coals\" for the GT stands around in the corner'"
      ]
     },
     "metadata": {},
     "output_type": "display_data"
    },
    {
     "data": {
      "text/plain": [
       "'WP12/5 water on floor'"
      ]
     },
     "metadata": {},
     "output_type": "display_data"
    },
    {
     "data": {
      "text/plain": [
       "'In the boiler house at 7m you will find the legacies of fitters who have not heard of leaving your construction site clean. E-waste in the area of the FW main gate valves and scrap metal in the area of the boiler floor combustion chamber hatch'"
      ]
     },
     "metadata": {},
     "output_type": "display_data"
    },
    {
     "data": {
      "text/plain": [
       "'Excessive dust on surfaces.'"
      ]
     },
     "metadata": {},
     "output_type": "display_data"
    },
    {
     "data": {
      "text/plain": [
       "'Fire load active workshop'"
      ]
     },
     "metadata": {},
     "output_type": "display_data"
    },
    {
     "data": {
      "text/plain": [
       "'Garbage/garbage/plastic are located at 0m instead of in appropriate waste containers.'"
      ]
     },
     "metadata": {},
     "output_type": "display_data"
    },
    {
     "data": {
      "text/plain": [
       "'- A filling line should be inserted from the 14m platform downwards into the container \\n  of the sludge thickener. As a result, the contents of the container can be \\n  can be emptied from the wagon without further transport.'"
      ]
     },
     "metadata": {},
     "output_type": "display_data"
    },
    {
     "data": {
      "text/plain": [
       "'Inspection: Environmental protection; On the Sorflash tank, the leakage indicator is not filled and also not visible. is tested by I/MT (Lackner). until?'"
      ]
     },
     "metadata": {},
     "output_type": "display_data"
    },
    {
     "data": {
      "text/plain": [
       "'Hazardous materials room: order and cleanliness ->hoses, cleaning rags, small (iron) material, canisters, etc. dispose'"
      ]
     },
     "metadata": {},
     "output_type": "display_data"
    },
    {
     "data": {
      "text/plain": [
       "'U3 FGD tripped due to cascade trip of Regen Heater caused by loss of speed sensor'"
      ]
     },
     "metadata": {},
     "output_type": "display_data"
    },
    {
     "data": {
      "text/plain": [
       "'A lot of scrap and bad order and tidiness in the scrapping workshop'"
      ]
     },
     "metadata": {},
     "output_type": "display_data"
    },
    {
     "data": {
      "text/plain": [
       "'Garbage and scrap metal were dumped at the place next to the car.'"
      ]
     },
     "metadata": {},
     "output_type": "display_data"
    },
    {
     "data": {
      "text/plain": [
       "'Trashy inside door of G0302'"
      ]
     },
     "metadata": {},
     "output_type": "display_data"
    },
    {
     "data": {
      "text/plain": [
       "'Sink without filter at KRA B1 Turbine, with activated sludge in the sink filter that was next to the sink. \\nWP4.1'"
      ]
     },
     "metadata": {},
     "output_type": "display_data"
    },
    {
     "data": {
      "text/plain": [
       "'WP3 Oljespill'"
      ]
     },
     "metadata": {},
     "output_type": "display_data"
    },
    {
     "data": {
      "text/plain": [
       "'Seal oil pump No1 tripped on electrical overload. Seal oil pump No2 started but unnoticed so did the DC pump. The generator protection system discharged the hydrogen once the DC pump had run for 30 minutes. There was Hydrogen available to top up the generator on site but a there would be a potential risk if it happened again in commissioning.'"
      ]
     },
     "metadata": {},
     "output_type": "display_data"
    },
    {
     "data": {
      "text/plain": [
       "'WP3 Golvbrunn'"
      ]
     },
     "metadata": {},
     "output_type": "display_data"
    },
    {
     "data": {
      "text/plain": [
       "'Open fire doors Reception centre hotel'"
      ]
     },
     "metadata": {},
     "output_type": "display_data"
    },
    {
     "data": {
      "text/plain": [
       "'Sudden increase in the district heating storage tank up to > tank. \\r\\noverflowed. As a result, the Datteln 4 block would almost be off the grid with \\r\\nFire gone out. The reason for this is the flow control in the condensate system \\r\\nDue to the structural lack of check valves, it is too \\r\\nCross currents came. The shut-off valve 40NAB35AA101 is available in  \\r\\nThe lineup has gone into trouble. Two fuses are \\r\\nplease. At the same time, however, the valve 40NAB30AA101 opened and this \\r\\nCondition caused the cross flow.The main condensate is backwards in \\r\\nthe district heating storage tank and overfilled it. Thereby \\r\\nFeed water tank level dropped quickly. However, the cause was \\r\\ndetected in time and the error could be eliminated \\r\\nbecome'"
      ]
     },
     "metadata": {},
     "output_type": "display_data"
    },
    {
     "data": {
      "text/plain": [
       "'High chlorides identified in gypsum import and export samples during routine samples.'"
      ]
     },
     "metadata": {},
     "output_type": "display_data"
    },
    {
     "data": {
      "text/plain": [
       "'KH 20m south side coaling exit\\nDispose of the fixed pulley of a pulley or store it if necessary'"
      ]
     },
     "metadata": {},
     "output_type": "display_data"
    },
    {
     "data": {
      "text/plain": [
       "'WP3 gas cylinders in the wrong place. T1403/T0308'"
      ]
     },
     "metadata": {},
     "output_type": "display_data"
    },
    {
     "data": {
      "text/plain": [
       "'WP3 Golvbrunn'"
      ]
     },
     "metadata": {},
     "output_type": "display_data"
    },
    {
     "data": {
      "text/plain": [
       "\"Empty beer can found on BKAB's grounds\""
      ]
     },
     "metadata": {},
     "output_type": "display_data"
    },
    {
     "data": {
      "text/plain": [
       "'Marty has announced that he wants to take these temperature measurements tomorrow, depending on the ability to deposit all the steam produced. Measurements are necessary to substantiate complete waste incineration with sufficiently high temperature and residence time (Wabo permit requirement).\\nDCMR Control Room requests to unsubscribe afterwards, or to let us know if necessary.\\nEvent number 598950'"
      ]
     },
     "metadata": {},
     "output_type": "display_data"
    },
    {
     "data": {
      "text/plain": [
       "'Oskarshamn 3 - Radioactive waste with high radiation level in blue classified public area'"
      ]
     },
     "metadata": {},
     "output_type": "display_data"
    },
    {
     "data": {
      "text/plain": [
       "\"BKAB's decision-making towards projects\""
      ]
     },
     "metadata": {},
     "output_type": "display_data"
    },
    {
     "data": {
      "text/plain": [
       "'Accumulation of illegally deposited garbage in the driveway.'"
      ]
     },
     "metadata": {},
     "output_type": "display_data"
    },
    {
     "data": {
      "text/plain": [
       "'Lack of labeling of the HSR collection bins'"
      ]
     },
     "metadata": {},
     "output_type": "display_data"
    },
    {
     "data": {
      "text/plain": [
       "'Flammable hazardous substances A.C.S 3 (= highly effective quick cleaning spray) stored slightly hidden - > never store flammable or flammable hazardous substances in areas with (coal) dust'"
      ]
     },
     "metadata": {},
     "output_type": "display_data"
    },
    {
     "data": {
      "text/plain": [
       "'Walkdown of cooling towers upon demobilization of cooling tower maintenance team revealed empty bottles, cans and cigarette ends within dry section of cooling tower.'"
      ]
     },
     "metadata": {},
     "output_type": "display_data"
    },
    {
     "data": {
      "text/plain": [
       "'WP4 can of oil on the sweep'"
      ]
     },
     "metadata": {},
     "output_type": "display_data"
    },
    {
     "data": {
      "text/plain": [
       "'Leftover water/spills on the floor within WP 12 work area'"
      ]
     },
     "metadata": {},
     "output_type": "display_data"
    },
    {
     "data": {
      "text/plain": [
       "'The evaluation of the sampling of the FGD wastewater on 26 July 2022 showed a COD value of 111 mg/l (Vorlas Main 15 mg/l) and thus exceeded the approved limit value.'"
      ]
     },
     "metadata": {},
     "output_type": "display_data"
    },
    {
     "data": {
      "text/plain": [
       "'Overflowing boxes in the soup'"
      ]
     },
     "metadata": {},
     "output_type": "display_data"
    },
    {
     "data": {
      "text/plain": [
       "'asdfasdf'"
      ]
     },
     "metadata": {},
     "output_type": "display_data"
    },
    {
     "data": {
      "text/plain": [
       "\"Very small amounts got into the tank, no one was inside at the time. (PTW was released for it)\\nWe carried out welding repair work in a tank. During a rest period, they told me that they could hear the water trickling inside from outside and that they wouldn't go back. I don't know exactly which stump the medium came from, but it wasn't a large amount, the tank drain was open, so it couldn't accumulate. Work stopped until the cause was found (moving motor trains).\""
      ]
     },
     "metadata": {},
     "output_type": "display_data"
    },
    {
     "data": {
      "text/plain": [
       "'Safe ID: 112201\\nOskarshamn 3 - Unclear roles in the disposal of active scrap'"
      ]
     },
     "metadata": {},
     "output_type": "display_data"
    },
    {
     "data": {
      "text/plain": [
       "'There is a green sticker on the cabinet door that indicates UVV. There were no UVV in the closet.'"
      ]
     },
     "metadata": {},
     "output_type": "display_data"
    },
    {
     "data": {
      "text/plain": [
       "'The hazardous substance marking on the door to the Neutra container has been weathered'"
      ]
     },
     "metadata": {},
     "output_type": "display_data"
    },
    {
     "data": {
      "text/plain": [
       "'Oil and water was found on floor area around Main feed water pump. There was no obvious course of oil spillage. area made safe and cleaned.'"
      ]
     },
     "metadata": {},
     "output_type": "display_data"
    },
    {
     "data": {
      "text/plain": [
       "'The outdoor lecture room and AV needs to be tidied up.'"
      ]
     },
     "metadata": {},
     "output_type": "display_data"
    },
    {
     "data": {
      "text/plain": [
       "'IBC-behållare felmärkt'"
      ]
     },
     "metadata": {},
     "output_type": "display_data"
    },
    {
     "data": {
      "text/plain": [
       "'Dhnehnetn'"
      ]
     },
     "metadata": {},
     "output_type": "display_data"
    },
    {
     "data": {
      "text/plain": [
       "'Clearing away hoses lying around from test operation'"
      ]
     },
     "metadata": {},
     "output_type": "display_data"
    },
    {
     "data": {
      "text/plain": [
       "'Loss of environmental reporting data for an hour due to isolation of power supplies to spare analyser (An hour lost across the units but not lost the days reporting). Isolating the spare gas CEM analyser to connect the the new spare SICK dust analyser. Isolating the spare analyser resulted in temporary data loss to CDAS on all units (reporting system).'"
      ]
     },
     "metadata": {},
     "output_type": "display_data"
    },
    {
     "data": {
      "text/plain": [
       "'Non-category-labelled detergent can'"
      ]
     },
     "metadata": {},
     "output_type": "display_data"
    },
    {
     "data": {
      "text/plain": [
       "'Cleaning areas of plaster tapes'"
      ]
     },
     "metadata": {},
     "output_type": "display_data"
    },
    {
     "data": {
      "text/plain": [
       "'Control console of the mill disposal delivered by oil drums.'"
      ]
     },
     "metadata": {},
     "output_type": "display_data"
    },
    {
     "data": {
      "text/plain": [
       "'When a truck was unloaded, the storage tank was overfilled and heavy fuel oil leaked. The heavy fuel oil ran into the existing collection room and there was no damage to the environment.'"
      ]
     },
     "metadata": {},
     "output_type": "display_data"
    },
    {
     "data": {
      "text/plain": [
       "'During the commissioning work of the ME 2 in Breitbrunn, an oil leak was detected on the piping in the package during the inspection during the start-up process. As a result, the start process was aborted manually by the quick stop of the turbine. The oil spill was only in the package, so there was no danger to the employees and the environment at any time.'"
      ]
     },
     "metadata": {},
     "output_type": "display_data"
    },
    {
     "data": {
      "text/plain": [
       "'Inspection: Environmental protection; The test date on the ignition gas tank is not visible. The container is a rental container and we are independently inspected by the owner. Feedback from I/P'"
      ]
     },
     "metadata": {},
     "output_type": "display_data"
    },
    {
     "data": {
      "text/plain": [
       "'Personnel Gas detector went into alarm when in the IGA building due to a leak between a 1\" valve and its 1/4 \" fitting.'"
      ]
     },
     "metadata": {},
     "output_type": "display_data"
    },
    {
     "data": {
      "text/plain": [
       "'ABB contractor Darren Berry advised that valves which isolate pure H2 stream to purity analyser be controlled. Human factors. If the valve was left or accidentally left open, the DCS would show a 100% H2 content regardless of purity. It is common practice to have these valves locked off as is the case at other installations the contractor has visited.'"
      ]
     },
     "metadata": {},
     "output_type": "display_data"
    },
    {
     "data": {
      "text/plain": [
       "'Exterior heating oil tank: Process instruction \"Behavior during truck shipments was only valid until 21.12.2018'"
      ]
     },
     "metadata": {},
     "output_type": "display_data"
    },
    {
     "data": {
      "text/plain": [
       "'Dosing station ground floor\\nStorage of hazardous substance containers without water protection pallets, here NALMET 1691 and AMERSEP MP2.'"
      ]
     },
     "metadata": {},
     "output_type": "display_data"
    },
    {
     "data": {
      "text/plain": [
       "'WP12 Filterbrand'"
      ]
     },
     "metadata": {},
     "output_type": "display_data"
    },
    {
     "data": {
      "text/plain": [
       "'On 24.05.2021, the daily average value NOx was exceeded at HiDe 5.\\nValue: 109.95mg/Nm³\\n\\nReason: Failure of NH4oh dosage'"
      ]
     },
     "metadata": {},
     "output_type": "display_data"
    },
    {
     "data": {
      "text/plain": [
       "'Inspection: NH 3 Warehouse In the compressor room there is a canister of oil on the workbench which is disposed of. until 26.08. by VE'"
      ]
     },
     "metadata": {},
     "output_type": "display_data"
    },
    {
     "data": {
      "text/plain": [
       "'At 5m at the generator discharge block 1, there is a gas cylinder with sulfur hexafluoride SF6. Please dispose of them properly.'"
      ]
     },
     "metadata": {},
     "output_type": "display_data"
    },
    {
     "data": {
      "text/plain": [
       "'Safe ID: 112139\\nOskarshamn 3 - Investigation of RO-0-2022/023 Work that could have caused the release of radioactive substances carried out in passive mode in BFA'"
      ]
     },
     "metadata": {},
     "output_type": "display_data"
    },
    {
     "data": {
      "text/plain": [
       "'Oil leak from removed ACC gearbox onto hardstanding'"
      ]
     },
     "metadata": {},
     "output_type": "display_data"
    },
    {
     "data": {
      "text/plain": [
       "'Cavity in asphalt'"
      ]
     },
     "metadata": {},
     "output_type": "display_data"
    },
    {
     "data": {
      "text/plain": [
       "'Risk less: Oil has leaked from a pressure gauge in KH 2. This has been eliminated. by P/TD'"
      ]
     },
     "metadata": {},
     "output_type": "display_data"
    },
    {
     "data": {
      "text/plain": [
       "'Risk less: At 15m in the MH, hazardous substances were not stored properly. have been cleaned up by GE GE has instructed its employees again.'"
      ]
     },
     "metadata": {},
     "output_type": "display_data"
    },
    {
     "data": {
      "text/plain": [
       "'Bring the fire hose lying around to the warehouse.'"
      ]
     },
     "metadata": {},
     "output_type": "display_data"
    },
    {
     "data": {
      "text/plain": [
       "'Safety valve in gas pressure reduction has responded and relaxed natural gas into the open air via lambda blowers.'"
      ]
     },
     "metadata": {},
     "output_type": "display_data"
    },
    {
     "data": {
      "text/plain": [
       "'Stop / maintenance MPP3 incident number 776310'"
      ]
     },
     "metadata": {},
     "output_type": "display_data"
    },
    {
     "data": {
      "text/plain": [
       "'On 11.07.2023 at 3:43 a.m., an uncontrolled leakage of bearing oil occurred at the generator storage unit 2. \\nThe warehouse was opened as part of maintenance measures on 10.07.2023 at approx. 13:00, the upper bearing shell was lifted off.   This state of dismantling was left at the end of the working day in order to continue the work the following day. \\nWhen the automatic oil heating system went into operation during the night, the oil was able to escape from the generator bearing. This was not activated as part of the maintenance work.\\nIn the bearing oil tank, approx. 47mm height was missing. This corresponds to a quantity of 1142 liters which has leaked. The leaked oil was distributed below the generator in the nacelle at 14m, 8m to -4m. \\nThe leak was detected and stopped on 11.07.2023 at 04:24 during a tour.'"
      ]
     },
     "metadata": {},
     "output_type": "display_data"
    },
    {
     "data": {
      "text/plain": [
       "'Flexible hose connection to oil line with \"open end\", clarify frequency of use and risk of unintentional oil release (oil pump house)'"
      ]
     },
     "metadata": {},
     "output_type": "display_data"
    },
    {
     "data": {
      "text/plain": [
       "'In the course of emptying and cleaning the CCS plant, washing liquid containing NaOH had to be transported to the industrial wastewater treatment (BAA). A vacuum truck from Buchen was used for this purpose. The vacuum truck was previously used in the area of the HER tank (HER = heating oil substitute fuel). Obviously, there were still traces of HER in the vacuum truck (about 0.5 l), but this was only noticed after draining into the sump of the BAA (smell and oil eyes on the surface of the water in the BAA). No water contaminated with oil has been released into the environment. The BAA is only emptied into the jade after the water quality has been checked.'"
      ]
     },
     "metadata": {},
     "output_type": "display_data"
    },
    {
     "data": {
      "text/plain": [
       "'Missing binder with safety data sheets on oil storage'"
      ]
     },
     "metadata": {},
     "output_type": "display_data"
    },
    {
     "data": {
      "text/plain": [
       "'At 12:40 p.m., smoke developed in the 110kV single-phase substation WKW. The smoke came out of a floor shaft between circuit breaker cells and the office building. \\n\\nThe flap to the floor shaft was opened carefully and at a distance by the operating personnel. The smoke was dense and could not be estimated by the operating personnel, so that the FFW had to be notified. The internal reporting chain was also initiated.  \\nWhen the rescue workers arrived after a short time, they were informed and instructed by the operating staff. Subsequently, the fire brigade climbed into the floor shaft with breathing apparatus and brought an oil radiator outside through a window. He had lost oil and smoked heavily. The cause of the fire was identified as a technical defect in the oil radiator. The RCD on site has tripped and turned off the circuit of the oil radiator. As a result, presumably, major damage could be avoided.\\n\\nEmergency doctors and the police were also on site. However, no people were harmed and after about 1 hour the operation was over. \\n\\nOn the construction plans, this shaft with the room below was not marked. In recent years, this space has also not been used.'"
      ]
     },
     "metadata": {},
     "output_type": "display_data"
    },
    {
     "data": {
      "text/plain": [
       "'Risk less: Due to a fault in the bottle overflow, the discharger line was severely damaged. The investigation is guided by the production department.'"
      ]
     },
     "metadata": {},
     "output_type": "display_data"
    },
    {
     "data": {
      "text/plain": [
       "'Malfunction and leakage at auxiliary valve \"turbine - spiral case aeration\" of rehabilitated WALDECK 2 Unit 6'"
      ]
     },
     "metadata": {},
     "output_type": "display_data"
    },
    {
     "data": {
      "text/plain": [
       "'On call engineer received a call from CDC Operations that the Cottam PRS ESD system had activated and closed all the site ESD valves and shutdown the Boiler House'"
      ]
     },
     "metadata": {},
     "output_type": "display_data"
    },
    {
     "data": {
      "text/plain": [
       "'The support for the framework of the tarpaulin was \"undermined\" due to the weather or the undermining threatened to extend to the support level.'"
      ]
     },
     "metadata": {},
     "output_type": "display_data"
    },
    {
     "data": {
      "text/plain": [
       "'The oil absorbent must be removed.'"
      ]
     },
     "metadata": {},
     "output_type": "display_data"
    },
    {
     "data": {
      "text/plain": [
       "'Leak observed from P 003 suction strainer STR-1-003, furnace and pump stopped immediately , suction and discharge valves isolated.'"
      ]
     },
     "metadata": {},
     "output_type": "display_data"
    },
    {
     "data": {
      "text/plain": [
       "'Stationary fire protection gas turbine / generator\\n\\nincluding oil systems and equipment, oil tanks, etc.\\nThe gas turbine and the gas and oil skids next to the turbine are not equipped with fire-fighting systems.\\n\\nLack of fire protection measures on the gas turbine\\n\\nIt should be borne in mind that the plant does not operate frequently, or rather, only during peak load in winter, when the burner areas are supervised by employees of the plant. The open design of the gas turbine components and the lack of extinguishing water supply at this location do not allow immediate and easy installation of fire extinguishing systems.\\n\\nHowever, the site should consider installing a structural separation between the oil skids and the gas skids, all of which are cut-and-cover and located in close proximity. Fire separation can be carried out, for example, by fire-resistant panels.'"
      ]
     },
     "metadata": {},
     "output_type": "display_data"
    },
    {
     "data": {
      "text/plain": [
       "'Buckets of powder'"
      ]
     },
     "metadata": {},
     "output_type": "display_data"
    },
    {
     "data": {
      "text/plain": [
       "'During a tour, it was found that there is a lot of coal dust in the area of burner 3.1 Block C.  Upon closer inspection, a slight leak was found in a flange connection of the coal dust line and plug-in washer fitting.'"
      ]
     },
     "metadata": {},
     "output_type": "display_data"
    },
    {
     "data": {
      "text/plain": [
       "'Oskarshamn 3 - Short stop No. 2-22 - Noise from overhead crane in Reaktorhallen'"
      ]
     },
     "metadata": {},
     "output_type": "display_data"
    },
    {
     "data": {
      "text/plain": [
       "'WP3 Water blasting garbage bags'"
      ]
     },
     "metadata": {},
     "output_type": "display_data"
    },
    {
     "data": {
      "text/plain": [
       "'Inspection: The M-Werkstatt would like to switch to a new cooling lubricant for procurement reasons. For this purpose, tests are carried out and the technical instruction F 007 must be adapted by the hazardous substances officer. until 1.05.22'"
      ]
     },
     "metadata": {},
     "output_type": "display_data"
    },
    {
     "data": {
      "text/plain": [
       "'Risk less: heavy fuel oil station; Several leaking flanges were detected. An error message has been created. by P/TD'"
      ]
     },
     "metadata": {},
     "output_type": "display_data"
    },
    {
     "data": {
      "text/plain": [
       "'Unlabelled bottles with chemicals'"
      ]
     },
     "metadata": {},
     "output_type": "display_data"
    },
    {
     "data": {
      "text/plain": [
       "'Head side coaling on the containers at FWK: various blue barrels with wet carbon elements (probably from the storm and rain day in the 25.KW – 22.06.2023)\\nPOSITIVE:\\n- The barrier cats and warning signs are present on almost all lances\\n- Working platform tested at level 34.0 m\\n- Working platform (upper burner level) tested at level 20.0 m'"
      ]
     },
     "metadata": {},
     "output_type": "display_data"
    },
    {
     "data": {
      "text/plain": [
       "'Inspection: MH 3; Oil room, there are some dirty mats and rags in the oil room. These were disposed of. by P'"
      ]
     },
     "metadata": {},
     "output_type": "display_data"
    },
    {
     "data": {
      "text/plain": [
       "'Fluorescent lamps are placed in a corner.'"
      ]
     },
     "metadata": {},
     "output_type": "display_data"
    },
    {
     "data": {
      "text/plain": [
       "'Disposing of old cloth bags in the basement'"
      ]
     },
     "metadata": {},
     "output_type": "display_data"
    },
    {
     "data": {
      "text/plain": [
       "'Cylinder handling incorrect WP3/4/12'"
      ]
     },
     "metadata": {},
     "output_type": "display_data"
    },
    {
     "data": {
      "text/plain": [
       "'Safe ID: 108786\\nOskarshamn 3 - Reconditioning of intermediate level waste'"
      ]
     },
     "metadata": {},
     "output_type": "display_data"
    },
    {
     "data": {
      "text/plain": [
       "'In the course of maintenance measures (integration of a plug-in disc) on the old connecting line of the Slopöl-Tank Pumpenhaus to the Heizöl-S Tank Alt, there was an uncontrolled release of approx. 50 litres of heating oil-S. The release occurred inside the oil pump house.\\n\\nExpiration:\\n\\nIn the course of the work permit procedure, an activation was created and provided by the shift staff. This disconnection prevents/prevented unintentional start-up of the slopol pump during work on the open piping system.\\n\\nIn preparation for the opening of the pipeline system, the affected pipeline had to be completely emptied. This was done via a hose connection with ball valve shut-off on the discharge side of the slopöl pump.\\nThe extracted oil was fed via buckets to the leakage oil tank, the drain of which is connected to the slopoil tank.\\n\\nThe integration of the plug-in disc into the existing piping system was successfully carried out.\\n\\nIn the afternoon of 28.09.2022 at around 3:30 p.m., a message was sent to the process control system, with the content that the oil detection in the oil pump house had responded. An on-site inspection was carried out by the shift staff present. The oil leakage of about 50 liters was noticed. \\nThe oil has leaked from the opening of the leakage oil tank, into which the buckets were emptied in advance. The foreman for supply and disposal and the production manager were also informed by the shift staff. As immediate measures, the following actions were carried out:\\n\\n-Information of the persons mentioned\\n-Sprinkling of the leaked oil by means of an oil binder\\n-Decommissioning of the heavy fuel oil pump still in operation\\n-Closing the connecting line between the leakage oil tank and the slop oil tank\\n-Check oil pump house and outdoor area for further oil leakage.\\n\\nNo further leakage could be detected.\\nThe clarification of the cause is ongoing.\\n\\nUpdate 12.10.2022: \\n\\nThe reason for the overflow of the leakage oil tank was an unnoticed rise in the slop oil tank with the slop oil pump activated at the same time, which conveys the oil into the fuel oil S tank. This activation was necessary in order to be able to integrate the above-mentioned plug-in disc.\\nAfter emptying the discharge line by means of a bucket into the leakage oil tank, the connecting slide to the slop oil tank remained in the position (normal state).\\nSlopöl quantities that continued to accumulate during operation were regularly fed into the slopöl tank. This led to the rise of the slop oil tank and finally to the leakage oil tank. \\n\\nThe following points can be derived as learning effects, which are also shown in the action associated with the case:\\n\\n-Prompt scheduling and coordination of activation/order execution with the smallest possible time offset\\n\\n-Immediate pumping out of the slop oil tank before unlocking\\n\\n-normalization of the activation as soon as possible after the return of the work permit'"
      ]
     },
     "metadata": {},
     "output_type": "display_data"
    },
    {
     "data": {
      "text/plain": [
       "'Inside level 0.0m-close to intermediate tank 4:\\nFilter Test period quality control exceeded (in 01-2005)'"
      ]
     },
     "metadata": {},
     "output_type": "display_data"
    }
   ],
   "source": [
    "for t in df_['text']:\n",
    "    display(t)"
   ]
  },
  {
   "cell_type": "markdown",
   "id": "2236515c",
   "metadata": {},
   "source": [
    "#### standard inputs"
   ]
  },
  {
   "cell_type": "code",
   "execution_count": 32,
   "id": "83588d43",
   "metadata": {},
   "outputs": [],
   "source": [
    "model_ = SentenceTransformer('all-mpnet-base-v2')\n",
    "X_train = model_.encode(texts_train, convert_to_tensor=False)\n",
    "X_test = model_.encode(texts_test, convert_to_tensor=False)"
   ]
  },
  {
   "cell_type": "code",
   "execution_count": 33,
   "id": "25d977fd",
   "metadata": {},
   "outputs": [],
   "source": [
    "clf = LogisticRegression(max_iter=1000).fit(X_train, targets_train_)"
   ]
  },
  {
   "cell_type": "code",
   "execution_count": 34,
   "id": "05857973",
   "metadata": {},
   "outputs": [],
   "source": [
    "labels_pred = clf.predict(X_test)"
   ]
  },
  {
   "cell_type": "code",
   "execution_count": 13,
   "id": "a46ee003",
   "metadata": {},
   "outputs": [
    {
     "data": {
      "text/plain": [
       "{'presision': 0.7208281053952321, 'recall': 0.7208281053952321}"
      ]
     },
     "execution_count": 13,
     "metadata": {},
     "output_type": "execute_result"
    }
   ],
   "source": [
    "compute_metrics(labels_pred, targets_test_)"
   ]
  },
  {
   "cell_type": "code",
   "execution_count": 14,
   "id": "b720e393",
   "metadata": {},
   "outputs": [],
   "source": [
    "preds_back = ord_enc.inverse_transform(labels_pred.reshape(-1, 1)).flatten()"
   ]
  },
  {
   "cell_type": "code",
   "execution_count": 15,
   "id": "922dca85",
   "metadata": {},
   "outputs": [],
   "source": [
    "df = pd.DataFrame({'text': texts_test, 'label': targets_test, 'label_pred': preds_back})"
   ]
  },
  {
   "cell_type": "code",
   "execution_count": 16,
   "id": "a0e8370e",
   "metadata": {},
   "outputs": [],
   "source": [
    "df__ = df[(df['label'] == 'Environment') & (df['label_pred'] != 'Environment')]"
   ]
  },
  {
   "cell_type": "code",
   "execution_count": 17,
   "id": "eae97c3f",
   "metadata": {},
   "outputs": [
    {
     "data": {
      "text/plain": [
       "'Boiler 7 level 0.0 m (basement): garbage under the stairs (exit from level 2.0 m)'"
      ]
     },
     "metadata": {},
     "output_type": "display_data"
    },
    {
     "data": {
      "text/plain": [
       "'Cleaning requirements in the FGD 0 m and WA area:\\n\\nIncreased need for cleaning, especially accumulation of various spare parts (presumably due to both Q shutdowns)'"
      ]
     },
     "metadata": {},
     "output_type": "display_data"
    },
    {
     "data": {
      "text/plain": [
       "'WP1 Improper storage of chemical'"
      ]
     },
     "metadata": {},
     "output_type": "display_data"
    },
    {
     "data": {
      "text/plain": [
       "'WP3 Inlet and Outlet Bouncer'"
      ]
     },
     "metadata": {},
     "output_type": "display_data"
    },
    {
     "data": {
      "text/plain": [
       "'WP3 Oil'"
      ]
     },
     "metadata": {},
     "output_type": "display_data"
    },
    {
     "data": {
      "text/plain": [
       "'Area at the old cooling towers:\\nThere are various old pipelines + scaffolding materials + wooden planks lying around.\\nOrigin + purpose is unclear.'"
      ]
     },
     "metadata": {},
     "output_type": "display_data"
    },
    {
     "data": {
      "text/plain": [
       "'The basic cleaning was ordered by an SAP message.'"
      ]
     },
     "metadata": {},
     "output_type": "display_data"
    },
    {
     "data": {
      "text/plain": [
       "'Oskarshamn 2 - TIL - Plasma cutting on system 315, smoke sucked into RI'"
      ]
     },
     "metadata": {},
     "output_type": "display_data"
    },
    {
     "data": {
      "text/plain": [
       "'Fly tipped building rubble dumped down Leicester Rd i.e. access road.'"
      ]
     },
     "metadata": {},
     "output_type": "display_data"
    },
    {
     "data": {
      "text/plain": [
       "'The old emergency number was still attached to the barrier at the Garstadt power plant'"
      ]
     },
     "metadata": {},
     "output_type": "display_data"
    },
    {
     "data": {
      "text/plain": [
       "'Decommissioned by trip on desk.\\nKetel continues to operate for the first time. \\nThis notification does not need to be terminated'"
      ]
     },
     "metadata": {},
     "output_type": "display_data"
    },
    {
     "data": {
      "text/plain": [
       "'Red plastic barriers were being transported when rubber \"feet\" fell off, the forklift drove over them, driver stopped and checked load then proceeded, leaving discarded and damaged feet, these were cleared by a project ERSHE.'"
      ]
     },
     "metadata": {},
     "output_type": "display_data"
    },
    {
     "data": {
      "text/plain": [
       "'During the strong winds of 8 January 2019 on the Maasvlakte, a lot of coal dust was blown from fields A1, A2, B1, B2, C1 and C2. As a result, there is strong pollution of surrounding plant parts (UCML), roads, cars and buildings.'"
      ]
     },
     "metadata": {},
     "output_type": "display_data"
    },
    {
     "data": {
      "text/plain": [
       "'Inspection: In boiler house 3 there is a puddle of sulfuric acid at 0m and a tub without marking. Area was cleaned, the area cordoned off and the tub marked. by P/ Beetle'"
      ]
     },
     "metadata": {},
     "output_type": "display_data"
    },
    {
     "data": {
      "text/plain": [
       "'KVT G13: Fuel leakage when cutting pipes.'"
      ]
     },
     "metadata": {},
     "output_type": "display_data"
    },
    {
     "data": {
      "text/plain": [
       "'The road surface around the seaweed skip is pitted and damaged to the extent that the fork lift truck wheels are getting stuck in the ruts and holes while attempting to empty the skip. At present, the access is restricted due to the works in the area.'"
      ]
     },
     "metadata": {},
     "output_type": "display_data"
    },
    {
     "data": {
      "text/plain": [
       "'Testing of various cables expired\\nTesting of fire extinguishers shortly before expiry'"
      ]
     },
     "metadata": {},
     "output_type": "display_data"
    },
    {
     "data": {
      "text/plain": [
       "'WP3 Bucket of oil'"
      ]
     },
     "metadata": {},
     "output_type": "display_data"
    },
    {
     "data": {
      "text/plain": [
       "'Improper storage of paint'"
      ]
     },
     "metadata": {},
     "output_type": "display_data"
    },
    {
     "data": {
      "text/plain": [
       "'Incorrectly handled waste for clearance'"
      ]
     },
     "metadata": {},
     "output_type": "display_data"
    },
    {
     "data": {
      "text/plain": [
       "'In addition to the heavy leak tank in the catacombs of unit 2, a quantity of heavy oil has ended up.'"
      ]
     },
     "metadata": {},
     "output_type": "display_data"
    },
    {
     "data": {
      "text/plain": [
       "'WP5 Prevent leakage to ww'"
      ]
     },
     "metadata": {},
     "output_type": "display_data"
    },
    {
     "data": {
      "text/plain": [
       "'WP12 Deviation from routine: Liquid waste poured into floor drain'"
      ]
     },
     "metadata": {},
     "output_type": "display_data"
    },
    {
     "data": {
      "text/plain": [
       "'Loss of 5000L of oil into condenser pit. No release to environment.\\nSee attached golden hour from shift TL.'"
      ]
     },
     "metadata": {},
     "output_type": "display_data"
    },
    {
     "data": {
      "text/plain": [
       "'On Tuesday, 12.5.20 around 2:30 p.m., Ludwig discovered during work near the piping of machine 2/3 that oil was running down from a pipe penetration on the retaining wall. They immediately informed the UST staff that the leak had been investigated and that they were able to quickly determine that a gate valve fitting was open (should not be) when the ME 2 was filling up the oil and closed it immediately. The pipeline after the fitting led to the intermediate oil tank of the ME 1,2,3, which was separated by the dismantling of the ME 3 and thus the oil could escape about 50 - 70 liters and run down via the smell in the retaining wall.'"
      ]
     },
     "metadata": {},
     "output_type": "display_data"
    },
    {
     "data": {
      "text/plain": [
       "'During plant checks on CW System a leak was identifed on the Sodium Hypochlorite Dosing Pipework and area was barriered off. On returning to the area the pipework was found to be sheared. The Sodium Hypochlorite system was immediately taken out of service and isolated in preparation for repairs.'"
      ]
     },
     "metadata": {},
     "output_type": "display_data"
    },
    {
     "data": {
      "text/plain": [
       "'Exterior façade: in several places, especially in the lower end area, the façade parts made of Eternit (Attention: asbestos contamination possible!!) have broken off, in some cases there is insulation'"
      ]
     },
     "metadata": {},
     "output_type": "display_data"
    },
    {
     "data": {
      "text/plain": [
       "'WP4 Oil in cooling room'"
      ]
     },
     "metadata": {},
     "output_type": "display_data"
    },
    {
     "data": {
      "text/plain": [
       "'WP5 Water leak'"
      ]
     },
     "metadata": {},
     "output_type": "display_data"
    },
    {
     "data": {
      "text/plain": [
       "'Risk less: MH 3, 15m; An acetone can was stored unattended on a power distributor. A briefing was carried out by GE and cleaned up.'"
      ]
     },
     "metadata": {},
     "output_type": "display_data"
    },
    {
     "data": {
      "text/plain": [
       "'Short term technical breach of instantaneous permit limit for total oxidant as chlorine, resulting in zero environmental harm.'"
      ]
     },
     "metadata": {},
     "output_type": "display_data"
    },
    {
     "data": {
      "text/plain": [
       "'A report of low oil level steering oil tank STT came in at 07:30.\\nAs a result, the steering oil pumps failed, and the torn also stopped.\\nOil was refilled immediately by the guard, causing the pumps and torn to start working again.\\nAfter this, an investigation was carried out into a possible leak.\\nLeakage found at the actuator of the A3 control valve.'"
      ]
     },
     "metadata": {},
     "output_type": "display_data"
    },
    {
     "data": {
      "text/plain": [
       "'Loss of NH3 plant due to ‘A’ side line of sight detector going active (suspect faulted lots during the day), deluge operated, key switch override applied to detector CQ107 in order to get plant back in service, subsequent load drop from 20:09hrs to 20:45hrs, plant back in service approx. 20:30hrs.'"
      ]
     },
     "metadata": {},
     "output_type": "display_data"
    },
    {
     "data": {
      "text/plain": [
       "'Risk less: MH 3, 10m, In the switchgear, an acetone bottle was placed in a control cabinet. A briefing was conducted. By GE'"
      ]
     },
     "metadata": {},
     "output_type": "display_data"
    },
    {
     "data": {
      "text/plain": [
       "'On the site Crangerstrasse 40/42 (wolf menu) we found animal waste/carcasses near our shaft. The terrain cannot be walked on in this way. A planned fire rescue drill was canceled. The Herne fire brigade has notified the veterinary office. Since the site does not belong to us, we will wait for the reaction of the authorities. With the fire brigade, another training ground is found.'"
      ]
     },
     "metadata": {},
     "output_type": "display_data"
    },
    {
     "data": {
      "text/plain": [
       "'Due to work on the gt2 operating system, the generator lubricating oil pump(s) spontaneously started running.\\nAs a result, a socket in the pipe to the bearings of the generator is torn.'"
      ]
     },
     "metadata": {},
     "output_type": "display_data"
    },
    {
     "data": {
      "text/plain": [
       "'Beacon and garbage behind the dressing room must be cleared away.'"
      ]
     },
     "metadata": {},
     "output_type": "display_data"
    },
    {
     "data": {
      "text/plain": [
       "'Open fire door P0612 (Auditorium)'"
      ]
     },
     "metadata": {},
     "output_type": "display_data"
    },
    {
     "data": {
      "text/plain": [
       "'Pump of dust measurement is defective and new one will be installed this WK. There is no co-firing on this boiler.'"
      ]
     },
     "metadata": {},
     "output_type": "display_data"
    },
    {
     "data": {
      "text/plain": [
       "'Tanks in room G0301 marked with old hazard pictograms'"
      ]
     },
     "metadata": {},
     "output_type": "display_data"
    },
    {
     "data": {
      "text/plain": [
       "'During the movement of the wet bagger, a hydraulic hose installed in the hydraulic system failed. Hydraulic oil leaked locally.'"
      ]
     },
     "metadata": {},
     "output_type": "display_data"
    },
    {
     "data": {
      "text/plain": [
       "'Dust seen blowing out from Dust Silo building (specifically north vehicle bay) on eastern entry point.'"
      ]
     },
     "metadata": {},
     "output_type": "display_data"
    },
    {
     "data": {
      "text/plain": [
       "'During the recovery of flotsam with the loading crane at the RRM in the Finsing power plant by hand control, an oil leak was discovered on a pipeline.\\nThe work was immediately stopped. Only some oil had leaked. No oil got into the water.'"
      ]
     },
     "metadata": {},
     "output_type": "display_data"
    },
    {
     "data": {
      "text/plain": [
       "'Food stolen from the lower dining room'"
      ]
     },
     "metadata": {},
     "output_type": "display_data"
    },
    {
     "data": {
      "text/plain": [
       "'Outdoor area material container 2: \\n• Order and cleanliness\\n• Do not store liquid hazardous substances in drip trays\\n• Dispose of empty containers and garbage\\n• Dispose of the two blue barrels and the metal plate behind the container\\n• Behind the container, the pest controller has laid out a poison box, stickers are attached without a date of interpretation'"
      ]
     },
     "metadata": {},
     "output_type": "display_data"
    },
    {
     "data": {
      "text/plain": [
       "'Oskarshamn 3 - The gutters in J1.02 are neglected and when needed overhaul and cleaning'"
      ]
     },
     "metadata": {},
     "output_type": "display_data"
    },
    {
     "data": {
      "text/plain": [
       "'Manhole cover and grate'"
      ]
     },
     "metadata": {},
     "output_type": "display_data"
    },
    {
     "data": {
      "text/plain": [
       "'Risk less: MH3, 15m A bucket of tools and chemicals was found unattended, a briefing was carried out and cleaned up.'"
      ]
     },
     "metadata": {},
     "output_type": "display_data"
    },
    {
     "data": {
      "text/plain": [
       "'Centre Desk ovation reporting tool showed a different level of SO2 for 24/hr period than U1 air monitoring ovation page.'"
      ]
     },
     "metadata": {},
     "output_type": "display_data"
    },
    {
     "data": {
      "text/plain": [
       "'Inspection: There is water in the transformer furnace at the S-Oil station. the transformer is controlled by the external rotor. Instruction P,'"
      ]
     },
     "metadata": {},
     "output_type": "display_data"
    },
    {
     "data": {
      "text/plain": [
       "'Risk less: in MH 3; 15m, fluorescent tubes were disposed of with the residual waste. A briefing was carried out and the lamps were disposed of properly.'"
      ]
     },
     "metadata": {},
     "output_type": "display_data"
    },
    {
     "data": {
      "text/plain": [
       "'Blue barn.  Rescue cart environment needs to be reviewed ,possibly supplemented. Poorly inflated tires, etc.'"
      ]
     },
     "metadata": {},
     "output_type": "display_data"
    },
    {
     "data": {
      "text/plain": [
       "'Level 47.2 m east side (observation Zaubzer): loose insulating wool'"
      ]
     },
     "metadata": {},
     "output_type": "display_data"
    },
    {
     "data": {
      "text/plain": [
       "'Inspection: In the Kalk silo, a knife gate valve is leaking to the outside. An error message has been created. by I/AV'"
      ]
     },
     "metadata": {},
     "output_type": "display_data"
    },
    {
     "data": {
      "text/plain": [
       "'Risk less: after the repair of the HK there was light oil in the drip pan under the burner. This was disposed of. by P/TD'"
      ]
     },
     "metadata": {},
     "output_type": "display_data"
    },
    {
     "data": {
      "text/plain": [
       "'Sopp, brushes have probably been washed in the sink'"
      ]
     },
     "metadata": {},
     "output_type": "display_data"
    },
    {
     "data": {
      "text/plain": [
       "'Risk less: In front of the boiler house there were several wooden wedges soiled with oil. were disposed of by P/TD.'"
      ]
     },
     "metadata": {},
     "output_type": "display_data"
    },
    {
     "data": {
      "text/plain": [
       "'WP3 Unlabelled chemicals'"
      ]
     },
     "metadata": {},
     "output_type": "display_data"
    },
    {
     "data": {
      "text/plain": [
       "'Attachment coupling of hose shot.'"
      ]
     },
     "metadata": {},
     "output_type": "display_data"
    },
    {
     "data": {
      "text/plain": [
       "'In preparation for work on the weirs of the Bergheim power plant, the headwaters were lowered in order to be able to install scaffolding. this has led to the drying out of a biotope that is fed from the headwater.'"
      ]
     },
     "metadata": {},
     "output_type": "display_data"
    },
    {
     "data": {
      "text/plain": [
       "'WP3 Oil in unsuitable vessels'"
      ]
     },
     "metadata": {},
     "output_type": "display_data"
    },
    {
     "data": {
      "text/plain": [
       "'WP3 Suspected asbestos incorrectly sorted'"
      ]
     },
     "metadata": {},
     "output_type": "display_data"
    },
    {
     "data": {
      "text/plain": [
       "'- Fire extinguisher seal of approval expired\\n- Pre-installation tent between the boilers \\nUse by partner company, employees stood directly in wires and cables, next to cardboard boxes and actuators everything in the immediate vicinity, garbage and garbage boxes\\n- In the area of all plant components garbage accumulations, pallets and boxes\\n- Feed water pump room\\nCables/wires, old insulation, old plant components, etc.'"
      ]
     },
     "metadata": {},
     "output_type": "display_data"
    },
    {
     "data": {
      "text/plain": [
       "'Various big packs and woods were found in the cooling tower area.'"
      ]
     },
     "metadata": {},
     "output_type": "display_data"
    },
    {
     "data": {
      "text/plain": [
       "'Basement: in the area of the mill there is 1 slop oil tank loose insulating wool, about 2 bags'"
      ]
     },
     "metadata": {},
     "output_type": "display_data"
    },
    {
     "data": {
      "text/plain": [
       "'Diesel cans inside the fishing shed (marina)'"
      ]
     },
     "metadata": {},
     "output_type": "display_data"
    },
    {
     "data": {
      "text/plain": [
       "'New control room (container):\\nRemnant package of façade elements still on welded-in pallet'"
      ]
     },
     "metadata": {},
     "output_type": "display_data"
    },
    {
     "data": {
      "text/plain": [
       "'ÖVT-GT G24 vatteninsprutningstripp'"
      ]
     },
     "metadata": {},
     "output_type": "display_data"
    },
    {
     "data": {
      "text/plain": [
       "\"On 14.6.2022, a trial operation of Unit 3 was carried out from 4:00 a.m. From 4 o'clock the first burners were ignited with (fuel oil extra light) HEL. The mains connection took place shortly after 6 o'clock. \\nThe entire HEL route from tank 4 to the boiler house was monitored by the shift with regular patrols. The last inspection was completed by about 8:15 a.m. Until then, no abnormalities/leaks had been detected. At around 8:25 a.m., an employee noticed HEL falling to zero meters in boiler house 3. He immediately informed the control room. An intensive search for the cause/leakage was carried out immediately. At the same time, the oil slick was stopped with oil binder. \\nThe oil leaked from a leaking three-way valve on the 5.1 burner. The burner was immediately taken out of service, thus stopping the oil supply.\""
      ]
     },
     "metadata": {},
     "output_type": "display_data"
    },
    {
     "data": {
      "text/plain": [
       "'Both Dust Silo Doors Below No. 4 Mixer mixer were left open with a large pile of dust left on the floor.\\nDust was blowing off the dust pile and travelling around site.'"
      ]
     },
     "metadata": {},
     "output_type": "display_data"
    },
    {
     "data": {
      "text/plain": [
       "'Upper level: various objects, concrete and masonry remnants, wooden boxes with garbage, pipes'"
      ]
     },
     "metadata": {},
     "output_type": "display_data"
    },
    {
     "data": {
      "text/plain": [
       "'Oskarshamn 3 - RA3-23 ERF - At the door out of the reactor hall there are several different signs that say different things. It is not entirely clear that individuals coming out of the reactor hall should scan the monitor before proceeding.'"
      ]
     },
     "metadata": {},
     "output_type": "display_data"
    },
    {
     "data": {
      "text/plain": [
       "'WP12 Bucket of liquid'"
      ]
     },
     "metadata": {},
     "output_type": "display_data"
    },
    {
     "data": {
      "text/plain": [
       "'Ascent IN 13: DENOX 4 ; The drip pans at the sewer burners were dirty. were cleaned by P/S'"
      ]
     },
     "metadata": {},
     "output_type": "display_data"
    },
    {
     "data": {
      "text/plain": [
       "'During off loading of one of the 25 litre drums at Gate  3 area, one of the drum securing caps came off causing a small amount of Hypo to spill onto floor. None of the contents came into contact with the off loading team'"
      ]
     },
     "metadata": {},
     "output_type": "display_data"
    },
    {
     "data": {
      "text/plain": [
       "'Less embers fire in led strip WP3 / water blasting'"
      ]
     },
     "metadata": {},
     "output_type": "display_data"
    },
    {
     "data": {
      "text/plain": [
       "'Clearance box overpacked with tube'"
      ]
     },
     "metadata": {},
     "output_type": "display_data"
    },
    {
     "data": {
      "text/plain": [
       "'When the annual report for 2021 was prepared, it was found that the maximum approved amount of heat for the discharge of the cooling water exceeded 270 MW, as this is not monitored by the control system.'"
      ]
     },
     "metadata": {},
     "output_type": "display_data"
    },
    {
     "data": {
      "text/plain": [
       "'Oskarshamn 0 - Lots of chemicals'"
      ]
     },
     "metadata": {},
     "output_type": "display_data"
    },
    {
     "data": {
      "text/plain": [
       "'The overall condition of the KH, MH and block coaling plant areas corresponds to a plant that has been shut down for many years.\\n\\nCertainly, one would wish for an extensive cleaning in some places. However, the degree of contamination does not pose an increased risk of accidents.'"
      ]
     },
     "metadata": {},
     "output_type": "display_data"
    },
    {
     "data": {
      "text/plain": [
       "'Oskarshamn 1 - RIO - Contaminated garbage containers in K4.50 on the waste'"
      ]
     },
     "metadata": {},
     "output_type": "display_data"
    },
    {
     "data": {
      "text/plain": [
       "'Baustellensauberkeit'"
      ]
     },
     "metadata": {},
     "output_type": "display_data"
    },
    {
     "data": {
      "text/plain": [
       "'Storage is missing.'"
      ]
     },
     "metadata": {},
     "output_type": "display_data"
    },
    {
     "data": {
      "text/plain": [
       "'Several (strongly) outdated versions of the Business Emergency Plan were found in the Stevenshof boiler house in Leiden (one from 2013 and one even older). This includes emergency telephone lists that list employees who have not been employed by the company for years. A current version of the Business Emergency Plan not found at the location.'"
      ]
     },
     "metadata": {},
     "output_type": "display_data"
    },
    {
     "data": {
      "text/plain": [
       "'Oskarshamn 0 - Batteries set up without bunding and weather protection'"
      ]
     },
     "metadata": {},
     "output_type": "display_data"
    },
    {
     "data": {
      "text/plain": [
       "'Measures / to be clarified\\n• The containers for oily waste do not close completely: fire hazard'"
      ]
     },
     "metadata": {},
     "output_type": "display_data"
    },
    {
     "data": {
      "text/plain": [
       "'WP3 Vattenblästring'"
      ]
     },
     "metadata": {},
     "output_type": "display_data"
    }
   ],
   "source": [
    "for t in df__['text']:\n",
    "    display(t)"
   ]
  },
  {
   "cell_type": "markdown",
   "id": "8b2e7111",
   "metadata": {},
   "source": [
    "## ----------------------"
   ]
  },
  {
   "cell_type": "code",
   "execution_count": 52,
   "id": "87f031a6",
   "metadata": {},
   "outputs": [],
   "source": [
    "a = set(df_['text']) - set(df__['text'])\n",
    "b = set(df__['text']) - set(df_['text'])"
   ]
  },
  {
   "cell_type": "code",
   "execution_count": 59,
   "id": "86c94688",
   "metadata": {},
   "outputs": [
    {
     "name": "stdout",
     "output_type": "stream",
     "text": [
      "69\n",
      "18\n",
      "27\n"
     ]
    }
   ],
   "source": [
    "print(len(a))\n",
    "print(len(b))\n",
    "print(len(set(df_['text']) & set(df__['text'])))"
   ]
  },
  {
   "cell_type": "code",
   "execution_count": 55,
   "id": "e764adbe",
   "metadata": {},
   "outputs": [
    {
     "data": {
      "text/plain": [
       "'On 11.07.2023 at 3:43 a.m., an uncontrolled leakage of bearing oil occurred at the generator storage unit 2. \\nThe warehouse was opened as part of maintenance measures on 10.07.2023 at approx. 13:00, the upper bearing shell was lifted off.   This state of dismantling was left at the end of the working day in order to continue the work the following day. \\nWhen the automatic oil heating system went into operation during the night, the oil was able to escape from the generator bearing. This was not activated as part of the maintenance work.\\nIn the bearing oil tank, approx. 47mm height was missing. This corresponds to a quantity of 1142 liters which has leaked. The leaked oil was distributed below the generator in the nacelle at 14m, 8m to -4m. \\nThe leak was detected and stopped on 11.07.2023 at 04:24 during a tour.'"
      ]
     },
     "metadata": {},
     "output_type": "display_data"
    },
    {
     "data": {
      "text/plain": [
       "'Flexible hose connection to oil line with \"open end\", clarify frequency of use and risk of unintentional oil release (oil pump house)'"
      ]
     },
     "metadata": {},
     "output_type": "display_data"
    },
    {
     "data": {
      "text/plain": [
       "'During vacuuming work with the stationary vacuum cleaning system on 31m boiler house, a static discharge occurred via the user.'"
      ]
     },
     "metadata": {},
     "output_type": "display_data"
    },
    {
     "data": {
      "text/plain": [
       "'Inspection: MH 3; Oil room, there are some dirty mats and rags in the oil room. These were disposed of. by P'"
      ]
     },
     "metadata": {},
     "output_type": "display_data"
    },
    {
     "data": {
      "text/plain": [
       "'Excessive dust on surfaces.'"
      ]
     },
     "metadata": {},
     "output_type": "display_data"
    },
    {
     "data": {
      "text/plain": [
       "'At 5m at the generator discharge block 1, there is a gas cylinder with sulfur hexafluoride SF6. Please dispose of them properly.'"
      ]
     },
     "metadata": {},
     "output_type": "display_data"
    },
    {
     "data": {
      "text/plain": [
       "'Clearing away hoses lying around from test operation'"
      ]
     },
     "metadata": {},
     "output_type": "display_data"
    },
    {
     "data": {
      "text/plain": [
       "'In the boiler house at 7m you will find the legacies of fitters who have not heard of leaving your construction site clean. E-waste in the area of the FW main gate valves and scrap metal in the area of the boiler floor combustion chamber hatch'"
      ]
     },
     "metadata": {},
     "output_type": "display_data"
    },
    {
     "data": {
      "text/plain": [
       "'Personnel Gas detector went into alarm when in the IGA building due to a leak between a 1\" valve and its 1/4 \" fitting.'"
      ]
     },
     "metadata": {},
     "output_type": "display_data"
    },
    {
     "data": {
      "text/plain": [
       "'Risk less: Due to a fault in the bottle overflow, the discharger line was severely damaged. The investigation is guided by the production department.'"
      ]
     },
     "metadata": {},
     "output_type": "display_data"
    },
    {
     "data": {
      "text/plain": [
       "'Fire load active workshop'"
      ]
     },
     "metadata": {},
     "output_type": "display_data"
    },
    {
     "data": {
      "text/plain": [
       "'Cavity in asphalt'"
      ]
     },
     "metadata": {},
     "output_type": "display_data"
    },
    {
     "data": {
      "text/plain": [
       "'Inspection: Environmental protection; On the Sorflash tank, the leakage indicator is not filled and also not visible. is tested by I/MT (Lackner). until?'"
      ]
     },
     "metadata": {},
     "output_type": "display_data"
    },
    {
     "data": {
      "text/plain": [
       "'Disposing of old cloth bags in the basement'"
      ]
     },
     "metadata": {},
     "output_type": "display_data"
    },
    {
     "data": {
      "text/plain": [
       "'IBC-behållare felmärkt'"
      ]
     },
     "metadata": {},
     "output_type": "display_data"
    },
    {
     "data": {
      "text/plain": [
       "'WP4 can of oil on the sweep'"
      ]
     },
     "metadata": {},
     "output_type": "display_data"
    },
    {
     "data": {
      "text/plain": [
       "'Seal oil pump No1 tripped on electrical overload. Seal oil pump No2 started but unnoticed so did the DC pump. The generator protection system discharged the hydrogen once the DC pump had run for 30 minutes. There was Hydrogen available to top up the generator on site but a there would be a potential risk if it happened again in commissioning.'"
      ]
     },
     "metadata": {},
     "output_type": "display_data"
    },
    {
     "data": {
      "text/plain": [
       "'During the commissioning work of the ME 2 in Breitbrunn, an oil leak was detected on the piping in the package during the inspection during the start-up process. As a result, the start process was aborted manually by the quick stop of the turbine. The oil spill was only in the package, so there was no danger to the employees and the environment at any time.'"
      ]
     },
     "metadata": {},
     "output_type": "display_data"
    },
    {
     "data": {
      "text/plain": [
       "'Inspection: Environmental protection; The test date on the ignition gas tank is not visible. The container is a rental container and we are independently inspected by the owner. Feedback from I/P'"
      ]
     },
     "metadata": {},
     "output_type": "display_data"
    },
    {
     "data": {
      "text/plain": [
       "'Trashy inside door of G0302'"
      ]
     },
     "metadata": {},
     "output_type": "display_data"
    },
    {
     "data": {
      "text/plain": [
       "'Inspection: The M-Werkstatt would like to switch to a new cooling lubricant for procurement reasons. For this purpose, tests are carried out and the technical instruction F 007 must be adapted by the hazardous substances officer. until 1.05.22'"
      ]
     },
     "metadata": {},
     "output_type": "display_data"
    },
    {
     "data": {
      "text/plain": [
       "'Stationary fire protection gas turbine / generator\\n\\nincluding oil systems and equipment, oil tanks, etc.\\nThe gas turbine and the gas and oil skids next to the turbine are not equipped with fire-fighting systems.\\n\\nLack of fire protection measures on the gas turbine\\n\\nIt should be borne in mind that the plant does not operate frequently, or rather, only during peak load in winter, when the burner areas are supervised by employees of the plant. The open design of the gas turbine components and the lack of extinguishing water supply at this location do not allow immediate and easy installation of fire extinguishing systems.\\n\\nHowever, the site should consider installing a structural separation between the oil skids and the gas skids, all of which are cut-and-cover and located in close proximity. Fire separation can be carried out, for example, by fire-resistant panels.'"
      ]
     },
     "metadata": {},
     "output_type": "display_data"
    },
    {
     "data": {
      "text/plain": [
       "'Risk less: At 15m in the MH, hazardous substances were not stored properly. have been cleaned up by GE GE has instructed its employees again.'"
      ]
     },
     "metadata": {},
     "output_type": "display_data"
    },
    {
     "data": {
      "text/plain": [
       "'Hazardous materials room: order and cleanliness ->hoses, cleaning rags, small (iron) material, canisters, etc. dispose'"
      ]
     },
     "metadata": {},
     "output_type": "display_data"
    },
    {
     "data": {
      "text/plain": [
       "'Overflowing boxes in the soup'"
      ]
     },
     "metadata": {},
     "output_type": "display_data"
    },
    {
     "data": {
      "text/plain": [
       "'In the course of maintenance measures (integration of a plug-in disc) on the old connecting line of the Slopöl-Tank Pumpenhaus to the Heizöl-S Tank Alt, there was an uncontrolled release of approx. 50 litres of heating oil-S. The release occurred inside the oil pump house.\\n\\nExpiration:\\n\\nIn the course of the work permit procedure, an activation was created and provided by the shift staff. This disconnection prevents/prevented unintentional start-up of the slopol pump during work on the open piping system.\\n\\nIn preparation for the opening of the pipeline system, the affected pipeline had to be completely emptied. This was done via a hose connection with ball valve shut-off on the discharge side of the slopöl pump.\\nThe extracted oil was fed via buckets to the leakage oil tank, the drain of which is connected to the slopoil tank.\\n\\nThe integration of the plug-in disc into the existing piping system was successfully carried out.\\n\\nIn the afternoon of 28.09.2022 at around 3:30 p.m., a message was sent to the process control system, with the content that the oil detection in the oil pump house had responded. An on-site inspection was carried out by the shift staff present. The oil leakage of about 50 liters was noticed. \\nThe oil has leaked from the opening of the leakage oil tank, into which the buckets were emptied in advance. The foreman for supply and disposal and the production manager were also informed by the shift staff. As immediate measures, the following actions were carried out:\\n\\n-Information of the persons mentioned\\n-Sprinkling of the leaked oil by means of an oil binder\\n-Decommissioning of the heavy fuel oil pump still in operation\\n-Closing the connecting line between the leakage oil tank and the slop oil tank\\n-Check oil pump house and outdoor area for further oil leakage.\\n\\nNo further leakage could be detected.\\nThe clarification of the cause is ongoing.\\n\\nUpdate 12.10.2022: \\n\\nThe reason for the overflow of the leakage oil tank was an unnoticed rise in the slop oil tank with the slop oil pump activated at the same time, which conveys the oil into the fuel oil S tank. This activation was necessary in order to be able to integrate the above-mentioned plug-in disc.\\nAfter emptying the discharge line by means of a bucket into the leakage oil tank, the connecting slide to the slop oil tank remained in the position (normal state).\\nSlopöl quantities that continued to accumulate during operation were regularly fed into the slopöl tank. This led to the rise of the slop oil tank and finally to the leakage oil tank. \\n\\nThe following points can be derived as learning effects, which are also shown in the action associated with the case:\\n\\n-Prompt scheduling and coordination of activation/order execution with the smallest possible time offset\\n\\n-Immediate pumping out of the slop oil tank before unlocking\\n\\n-normalization of the activation as soon as possible after the return of the work permit'"
      ]
     },
     "metadata": {},
     "output_type": "display_data"
    },
    {
     "data": {
      "text/plain": [
       "'ABB contractor Darren Berry advised that valves which isolate pure H2 stream to purity analyser be controlled. Human factors. If the valve was left or accidentally left open, the DCS would show a 100% H2 content regardless of purity. It is common practice to have these valves locked off as is the case at other installations the contractor has visited.'"
      ]
     },
     "metadata": {},
     "output_type": "display_data"
    },
    {
     "data": {
      "text/plain": [
       "'Dhnehnetn'"
      ]
     },
     "metadata": {},
     "output_type": "display_data"
    },
    {
     "data": {
      "text/plain": [
       "\"BKAB's decision-making towards projects\""
      ]
     },
     "metadata": {},
     "output_type": "display_data"
    },
    {
     "data": {
      "text/plain": [
       "'Safety valve in gas pressure reduction has responded and relaxed natural gas into the open air via lambda blowers.'"
      ]
     },
     "metadata": {},
     "output_type": "display_data"
    },
    {
     "data": {
      "text/plain": [
       "'Open fire doors Reception centre hotel'"
      ]
     },
     "metadata": {},
     "output_type": "display_data"
    },
    {
     "data": {
      "text/plain": [
       "'Sudden increase in the district heating storage tank up to > tank. \\r\\noverflowed. As a result, the Datteln 4 block would almost be off the grid with \\r\\nFire gone out. The reason for this is the flow control in the condensate system \\r\\nDue to the structural lack of check valves, it is too \\r\\nCross currents came. The shut-off valve 40NAB35AA101 is available in  \\r\\nThe lineup has gone into trouble. Two fuses are \\r\\nplease. At the same time, however, the valve 40NAB30AA101 opened and this \\r\\nCondition caused the cross flow.The main condensate is backwards in \\r\\nthe district heating storage tank and overfilled it. Thereby \\r\\nFeed water tank level dropped quickly. However, the cause was \\r\\ndetected in time and the error could be eliminated \\r\\nbecome'"
      ]
     },
     "metadata": {},
     "output_type": "display_data"
    },
    {
     "data": {
      "text/plain": [
       "'There is a green sticker on the cabinet door that indicates UVV. There were no UVV in the closet.'"
      ]
     },
     "metadata": {},
     "output_type": "display_data"
    },
    {
     "data": {
      "text/plain": [
       "'Buckets of powder'"
      ]
     },
     "metadata": {},
     "output_type": "display_data"
    },
    {
     "data": {
      "text/plain": [
       "\"Empty beer can found on BKAB's grounds\""
      ]
     },
     "metadata": {},
     "output_type": "display_data"
    },
    {
     "data": {
      "text/plain": [
       "'Unlabelled bottles with chemicals'"
      ]
     },
     "metadata": {},
     "output_type": "display_data"
    },
    {
     "data": {
      "text/plain": [
       "'The container for processing the \"coals\" for the GT stands around in the corner'"
      ]
     },
     "metadata": {},
     "output_type": "display_data"
    },
    {
     "data": {
      "text/plain": [
       "'A lot of scrap and bad order and tidiness in the scrapping workshop'"
      ]
     },
     "metadata": {},
     "output_type": "display_data"
    },
    {
     "data": {
      "text/plain": [
       "'WP12/5 water on floor'"
      ]
     },
     "metadata": {},
     "output_type": "display_data"
    },
    {
     "data": {
      "text/plain": [
       "'Cleaning areas of plaster tapes'"
      ]
     },
     "metadata": {},
     "output_type": "display_data"
    },
    {
     "data": {
      "text/plain": [
       "'WP3 gas cylinders in the wrong place. T1403/T0308'"
      ]
     },
     "metadata": {},
     "output_type": "display_data"
    },
    {
     "data": {
      "text/plain": [
       "'At 12:40 p.m., smoke developed in the 110kV single-phase substation WKW. The smoke came out of a floor shaft between circuit breaker cells and the office building. \\n\\nThe flap to the floor shaft was opened carefully and at a distance by the operating personnel. The smoke was dense and could not be estimated by the operating personnel, so that the FFW had to be notified. The internal reporting chain was also initiated.  \\nWhen the rescue workers arrived after a short time, they were informed and instructed by the operating staff. Subsequently, the fire brigade climbed into the floor shaft with breathing apparatus and brought an oil radiator outside through a window. He had lost oil and smoked heavily. The cause of the fire was identified as a technical defect in the oil radiator. The RCD on site has tripped and turned off the circuit of the oil radiator. As a result, presumably, major damage could be avoided.\\n\\nEmergency doctors and the police were also on site. However, no people were harmed and after about 1 hour the operation was over. \\n\\nOn the construction plans, this shaft with the room below was not marked. In recent years, this space has also not been used.'"
      ]
     },
     "metadata": {},
     "output_type": "display_data"
    },
    {
     "data": {
      "text/plain": [
       "'Leftover water/spills on the floor within WP 12 work area'"
      ]
     },
     "metadata": {},
     "output_type": "display_data"
    },
    {
     "data": {
      "text/plain": [
       "'The hazardous substance marking on the door to the Neutra container has been weathered'"
      ]
     },
     "metadata": {},
     "output_type": "display_data"
    },
    {
     "data": {
      "text/plain": [
       "'Inside level 0.0m-close to intermediate tank 4:\\nFilter Test period quality control exceeded (in 01-2005)'"
      ]
     },
     "metadata": {},
     "output_type": "display_data"
    },
    {
     "data": {
      "text/plain": [
       "'Safe ID: 112139\\nOskarshamn 3 - Investigation of RO-0-2022/023 Work that could have caused the release of radioactive substances carried out in passive mode in BFA'"
      ]
     },
     "metadata": {},
     "output_type": "display_data"
    },
    {
     "data": {
      "text/plain": [
       "'WP3 Oljespill'"
      ]
     },
     "metadata": {},
     "output_type": "display_data"
    },
    {
     "data": {
      "text/plain": [
       "'The outdoor lecture room and AV needs to be tidied up.'"
      ]
     },
     "metadata": {},
     "output_type": "display_data"
    },
    {
     "data": {
      "text/plain": [
       "'Cylinder handling incorrect WP3/4/12'"
      ]
     },
     "metadata": {},
     "output_type": "display_data"
    },
    {
     "data": {
      "text/plain": [
       "'Dosing station ground floor\\nStorage of hazardous substance containers without water protection pallets, here NALMET 1691 and AMERSEP MP2.'"
      ]
     },
     "metadata": {},
     "output_type": "display_data"
    },
    {
     "data": {
      "text/plain": [
       "'asdfasdf'"
      ]
     },
     "metadata": {},
     "output_type": "display_data"
    },
    {
     "data": {
      "text/plain": [
       "'U3 FGD tripped due to cascade trip of Regen Heater caused by loss of speed sensor'"
      ]
     },
     "metadata": {},
     "output_type": "display_data"
    },
    {
     "data": {
      "text/plain": [
       "'Walkdown of cooling towers upon demobilization of cooling tower maintenance team revealed empty bottles, cans and cigarette ends within dry section of cooling tower.'"
      ]
     },
     "metadata": {},
     "output_type": "display_data"
    },
    {
     "data": {
      "text/plain": [
       "'The support for the framework of the tarpaulin was \"undermined\" due to the weather or the undermining threatened to extend to the support level.'"
      ]
     },
     "metadata": {},
     "output_type": "display_data"
    },
    {
     "data": {
      "text/plain": [
       "'During a tour, it was found that there is a lot of coal dust in the area of burner 3.1 Block C.  Upon closer inspection, a slight leak was found in a flange connection of the coal dust line and plug-in washer fitting.'"
      ]
     },
     "metadata": {},
     "output_type": "display_data"
    },
    {
     "data": {
      "text/plain": [
       "'WP12 Filterbrand'"
      ]
     },
     "metadata": {},
     "output_type": "display_data"
    },
    {
     "data": {
      "text/plain": [
       "'On call engineer received a call from CDC Operations that the Cottam PRS ESD system had activated and closed all the site ESD valves and shutdown the Boiler House'"
      ]
     },
     "metadata": {},
     "output_type": "display_data"
    },
    {
     "data": {
      "text/plain": [
       "'Fluorescent lamps are placed in a corner.'"
      ]
     },
     "metadata": {},
     "output_type": "display_data"
    },
    {
     "data": {
      "text/plain": [
       "'Head side coaling on the containers at FWK: various blue barrels with wet carbon elements (probably from the storm and rain day in the 25.KW – 22.06.2023)\\nPOSITIVE:\\n- The barrier cats and warning signs are present on almost all lances\\n- Working platform tested at level 34.0 m\\n- Working platform (upper burner level) tested at level 20.0 m'"
      ]
     },
     "metadata": {},
     "output_type": "display_data"
    },
    {
     "data": {
      "text/plain": [
       "'WP3 Golvbrunn'"
      ]
     },
     "metadata": {},
     "output_type": "display_data"
    },
    {
     "data": {
      "text/plain": [
       "'Risk less: Oil has leaked from a pressure gauge in KH 2. This has been eliminated. by P/TD'"
      ]
     },
     "metadata": {},
     "output_type": "display_data"
    },
    {
     "data": {
      "text/plain": [
       "'High chlorides identified in gypsum import and export samples during routine samples.'"
      ]
     },
     "metadata": {},
     "output_type": "display_data"
    },
    {
     "data": {
      "text/plain": [
       "'Sink without filter at KRA B1 Turbine, with activated sludge in the sink filter that was next to the sink. \\nWP4.1'"
      ]
     },
     "metadata": {},
     "output_type": "display_data"
    },
    {
     "data": {
      "text/plain": [
       "'KH 20m south side coaling exit\\nDispose of the fixed pulley of a pulley or store it if necessary'"
      ]
     },
     "metadata": {},
     "output_type": "display_data"
    },
    {
     "data": {
      "text/plain": [
       "'Leak observed from P 003 suction strainer STR-1-003, furnace and pump stopped immediately , suction and discharge valves isolated.'"
      ]
     },
     "metadata": {},
     "output_type": "display_data"
    },
    {
     "data": {
      "text/plain": [
       "'Malfunction and leakage at auxiliary valve \"turbine - spiral case aeration\" of rehabilitated WALDECK 2 Unit 6'"
      ]
     },
     "metadata": {},
     "output_type": "display_data"
    },
    {
     "data": {
      "text/plain": [
       "'Safe ID: 108786\\nOskarshamn 3 - Reconditioning of intermediate level waste'"
      ]
     },
     "metadata": {},
     "output_type": "display_data"
    },
    {
     "data": {
      "text/plain": [
       "'Oskarshamn 3 - Short stop No. 2-22 - Noise from overhead crane in Reaktorhallen'"
      ]
     },
     "metadata": {},
     "output_type": "display_data"
    },
    {
     "data": {
      "text/plain": [
       "'Bring the fire hose lying around to the warehouse.'"
      ]
     },
     "metadata": {},
     "output_type": "display_data"
    }
   ],
   "source": [
    "for a_ in a:\n",
    "    display(a_)"
   ]
  },
  {
   "cell_type": "code",
   "execution_count": 56,
   "id": "0d21a7f1",
   "metadata": {},
   "outputs": [
    {
     "data": {
      "text/plain": [
       "'In the course of the daily control of the withdrawal via track 3 on 29.12.2020, an implausible measured value of the water dew point (-80°C!) was discovered. In coordination with UST and N-ergie, the withdrawal operation was subsequently discontinued.'"
      ]
     },
     "metadata": {},
     "output_type": "display_data"
    },
    {
     "data": {
      "text/plain": [
       "'Cyclife container'"
      ]
     },
     "metadata": {},
     "output_type": "display_data"
    },
    {
     "data": {
      "text/plain": [
       "'WP3 Oil'"
      ]
     },
     "metadata": {},
     "output_type": "display_data"
    },
    {
     "data": {
      "text/plain": [
       "'Smoke smell V0304'"
      ]
     },
     "metadata": {},
     "output_type": "display_data"
    },
    {
     "data": {
      "text/plain": [
       "'Preservation of fuel analyses\\nFound that the proportion of volatiles in 4 out of 5 samples was above the limit value of the specification. (4th/15th/20th/24.042023, see attached test report.)\\nCoal has already been used in some cases.'"
      ]
     },
     "metadata": {},
     "output_type": "display_data"
    },
    {
     "data": {
      "text/plain": [
       "'Degasser spray valve: EDH50-LCA30AA006\\n\\nfriday 15-10-2021 \\nMorning service.\\nDuring inspection round leakage at the spray valve of the degasser detected.\\nSAP notification number: 300010565216 - SAP order: 30004569344\\n\\nAfternoon service.\\nThe situation regarding the leakage of the spray valve has been discussed with the Siteleader on duty.\\nThe accompanying unit went out of service later in the evening, according to PCC forecast. Subsequently, the entire CCGT \"Unforeseeably Not Available\" was reported. \\nRepair is scheduled for Monday.'"
      ]
     },
     "metadata": {},
     "output_type": "display_data"
    },
    {
     "data": {
      "text/plain": [
       "'Required disposal of e-waste in front of the dozer hall.'"
      ]
     },
     "metadata": {},
     "output_type": "display_data"
    },
    {
     "data": {
      "text/plain": [
       "'Altrad Babcock subcontractor arrived on site and carried out printer removal from office location without reporting to Uniper point of contact.'"
      ]
     },
     "metadata": {},
     "output_type": "display_data"
    },
    {
     "data": {
      "text/plain": [
       "'Green waste required in the area in front of the cooling water pump house Block 5.'"
      ]
     },
     "metadata": {},
     "output_type": "display_data"
    },
    {
     "data": {
      "text/plain": [
       "'Fibrous dust observed in GS1 cooler. Compressor taken out of service, pending result of sample.'"
      ]
     },
     "metadata": {},
     "output_type": "display_data"
    },
    {
     "data": {
      "text/plain": [
       "'Oskarshamn 1 - RIO - Waste bag activity content of 1000kb/, placed in operation against waste'"
      ]
     },
     "metadata": {},
     "output_type": "display_data"
    },
    {
     "data": {
      "text/plain": [
       "'WP4.1 waste barrels'"
      ]
     },
     "metadata": {},
     "output_type": "display_data"
    },
    {
     "data": {
      "text/plain": [
       "'WP12 Bucket of liquid'"
      ]
     },
     "metadata": {},
     "output_type": "display_data"
    },
    {
     "data": {
      "text/plain": [
       "'Accumulation of combustible materials - empty cartons'"
      ]
     },
     "metadata": {},
     "output_type": "display_data"
    },
    {
     "data": {
      "text/plain": [
       "'Due to leaking CDP valve oil hose, the oil on a hot pipe came to right (oil vapor extraction sumps), causing heavy smoke development, to prevent fire GT stopped by means of emergency stop.\\r\\n\\r\\nPretect number 15447'"
      ]
     },
     "metadata": {},
     "output_type": "display_data"
    },
    {
     "data": {
      "text/plain": [
       "'Inspection: In MH 4, at 15m, oil drums are stored, these are removed by P/ layer. until 31.07.'"
      ]
     },
     "metadata": {},
     "output_type": "display_data"
    },
    {
     "data": {
      "text/plain": [
       "'EDF Contacted the CDC control room and reported that a large pool of water had accumulated in the Gypsum Store on the EDF site. It is suspected that this is something to do with our main CW supply pipe to site has it runs under this building and has been repaired before. Site visit confirmed this to be the case. Floor plates can be removed if necessary but it is hoped that we can live with this problem until the new supply pipe to site is installed. CW flow to site is not currently affected.'"
      ]
     },
     "metadata": {},
     "output_type": "display_data"
    },
    {
     "data": {
      "text/plain": [
       "'Gypsum quantities under conveyor belt near thickener 2 = particulate matter emissions  \\nLocation for such fillings is unsuitable – please remove'"
      ]
     },
     "metadata": {},
     "output_type": "display_data"
    }
   ],
   "source": [
    "for b_ in b:\n",
    "    display(b_)"
   ]
  },
  {
   "cell_type": "code",
   "execution_count": null,
   "id": "9648f3df",
   "metadata": {},
   "outputs": [],
   "source": []
  }
 ],
 "metadata": {
  "kernelspec": {
   "display_name": "Python 3",
   "language": "python",
   "name": "python3"
  },
  "language_info": {
   "codemirror_mode": {
    "name": "ipython",
    "version": 3
   },
   "file_extension": ".py",
   "mimetype": "text/x-python",
   "name": "python",
   "nbconvert_exporter": "python",
   "pygments_lexer": "ipython3",
   "version": "3.11.4"
  }
 },
 "nbformat": 4,
 "nbformat_minor": 5
}
